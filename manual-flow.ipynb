{
 "cells": [
  {
   "cell_type": "markdown",
   "id": "69d300eb",
   "metadata": {
    "language_info": {
     "name": "polyglot-notebook"
    },
    "polyglot_notebook": {
     "kernelName": "csharp"
    }
   },
   "source": [
    "# MCP Authentication Flow - Illustrated\n",
    "\n",
    "This notebook illustrates the end-to-end authentication flow for Model Context Protocol (MCP). The flow involves several key steps, including metadata discovery and parsing, client registration, user authentication, token generation, and access validation.\n",
    "\n",
    "A descripition of this flow is available in the [MCP Authentication Documentation](https://modelcontextprotocol.io/docs/tutorials/security/authorization).\n",
    "\n",
    "This notebook illustrates the authentication flow with the demo server."
   ]
  },
  {
   "cell_type": "code",
   "execution_count": null,
   "id": "9bfc3822",
   "metadata": {
    "language_info": {
     "name": "polyglot-notebook"
    },
    "polyglot_notebook": {
     "kernelName": "pwsh"
    }
   },
   "outputs": [],
   "source": [
    "$env:McpServer = \"http://localhost:5522/\""
   ]
  },
  {
   "cell_type": "markdown",
   "id": "802e0d8f",
   "metadata": {},
   "source": [
    "## Step 1 - Initial Handshake\n",
    "\n",
    "The initial handshake begins when a client application attempts to access a protected resource on the MCP server. The server responds with 401 Unauthorized status code and provides the client with the MCP metadata URL in the `WWW-Authenticate` header.\n"
   ]
  },
  {
   "cell_type": "code",
   "execution_count": null,
   "id": "74e72ba7",
   "metadata": {
    "language_info": {
     "name": "polyglot-notebook"
    },
    "polyglot_notebook": {
     "kernelName": "pwsh"
    }
   },
   "outputs": [],
   "source": [
    "curl -s -D - -X POST `\n",
    "  -H \"Content-Type: application/json\" `\n",
    "  -H \"Accept: application/json, text/event-stream\" `\n",
    "  -d '{\"jsonrpc\":\"2.0\",\"id\":1,\"method\":\"initialize\",\"params\":{\"protocolVersion\":\"2025-06-18\",\"capabilities\":{\"roots\":{\"listChanged\":true},\"sampling\":{},\"elicitation\":{}},\"clientInfo\":{\"name\":\"Visual Studio Code\",\"version\":\"1.105.1\"}}}' `\n",
    " \"$env:McpServer\""
   ]
  },
  {
   "cell_type": "markdown",
   "id": "a178d205",
   "metadata": {},
   "source": [
    "## Step 2 - Protected Resource Metadata Discovery\n",
    "\n",
    "When receiving a 401 response in Step 1, the client extracts the MCP metadata URL from the `WWW-Authenticate` header. Then it sends a GET request to this URL to retrieve the Protected Resource Metadata (PRM) document, which contains information about the authentication server(s) that can be used to authenticate and obtain access tokens."
   ]
  },
  {
   "cell_type": "code",
   "execution_count": null,
   "id": "d6c7dec4",
   "metadata": {
    "language_info": {
     "name": "polyglot-notebook"
    },
    "polyglot_notebook": {
     "kernelName": "pwsh"
    }
   },
   "outputs": [],
   "source": [
    "curl -s -X GET `\n",
    "  -H \"Accept: application/json\" `\n",
    " \"http://localhost:5522/.well-known/oauth-protected-resource\""
   ]
  },
  {
   "cell_type": "markdown",
   "id": "5980dd7a",
   "metadata": {},
   "source": [
    "## Step 3 - Authorization Server Discovery\n",
    "\n",
    "The PRM document should include one or more authorization servers in the `authorization_servers` array. When there is more than one, the client can choose which one to use, but in this case there is only one available. Next, the client retrieves metadata for the authorization server. This could be either OpenID Connect (OIDC) discovery metadata or OAuth 2.0 Authorization Server Metadata, depending on what the authorization server supports. There's no clear indication in the PRM document of which type it is, so the client must try both methods.\n",
    "\n",
    "According to the [OIDC specification], the client appends `/.well-known/openid-configuration` to the \"issuer\" URL to get the OIDC discovery document. The client sends a GET request to this URL and receives the OIDC metadata in response. Unfortunately, at this point all we have is the authorization server's URL, so we'll just try to use that as the issuer URL and hope for the best.\n",
    "\n",
    "[OIDC specification]: https://openid.net/specs/openid-connect-discovery-1_0.html#ProviderConfig"
   ]
  },
  {
   "cell_type": "code",
   "execution_count": null,
   "id": "6c9c77dd",
   "metadata": {
    "language_info": {
     "name": "polyglot-notebook"
    },
    "polyglot_notebook": {
     "kernelName": "pwsh"
    }
   },
   "outputs": [],
   "source": [
    "$env:MCP_Auth_Server = \"http://localhost:8080/realms/local\"\n",
    "$env:MCP_OIDC_Metadata = \"$env:MCP_Auth_Server/.well-known/openid-configuration\"\n",
    "\n",
    "curl -s -X GET `\n",
    "  -H \"Accept: application/json\" `\n",
    " \"$env:MCP_OIDC_Metadata\" | jq ."
   ]
  },
  {
   "cell_type": "markdown",
   "id": "cdd6103e",
   "metadata": {},
   "source": [
    "What we are looking for in this metadata is the authorization endpoint, token endpoint, and supported scopes, which will be used in the subsequent steps of the authentication flow. And the scopes are clearly indicated in the `scopes_supported` field of the OIDC metadata.\n",
    "\n",
    "But we don't see the authorization endpoint or token endpoint in the OIDC metadata. In this case, the best approach, and the one that happens to work with GitHub, is to assume the standard OAuth 2.0 endpoint paths:\n",
    "- Authorization Endpoint: `{authorization_server_url}/protocol/openid-connect/auth`\n",
    "- Token Endpoint: `{authorization_server_url}/protocol/openid-connect/token`"
   ]
  },
  {
   "cell_type": "code",
   "execution_count": null,
   "id": "fd794402",
   "metadata": {
    "language_info": {
     "name": "polyglot-notebook"
    },
    "polyglot_notebook": {
     "kernelName": "pwsh"
    }
   },
   "outputs": [],
   "source": [
    "$env:Scopes =  \"openid%20mcp:tools\"\n",
    "\n",
    "$env:AuthorizeEndpoint = \"$env:MCP_Auth_Server/protocol/openid-connect/auth\"\n",
    "$env:TokenEndpoint = \"$env:MCP_Auth_Server/protocol/openid-connect/token\""
   ]
  },
  {
   "cell_type": "markdown",
   "id": "d7f7f2de",
   "metadata": {},
   "source": [
    "## Step 4 - Client Registration\n",
    "\n",
    "When the authorization server supports dynamic client registration, the authorization server metadata will include a `registration_endpoint` field. The client can use this endpoint to register itself with the authorization server by sending a POST request with its details, such as redirect URIs and client name. The server responds with a client ID and client secret, which the client will use in subsequent authentication requests."
   ]
  },
  {
   "cell_type": "markdown",
   "id": "fecfb737",
   "metadata": {},
   "source": [
    "### Manual Client Registration\n",
    "\n",
    "TBD"
   ]
  },
  {
   "cell_type": "code",
   "execution_count": null,
   "id": "259b6c88",
   "metadata": {
    "language_info": {
     "name": "polyglot-notebook"
    },
    "polyglot_notebook": {
     "kernelName": "pwsh"
    }
   },
   "outputs": [],
   "source": [
    "Add-Type -AssemblyName System.Web\n",
    "\n",
    "$env:CallbackUrl = \"http://127.0.0.1/\"\n",
    "$env:CallbackUrlEncoded = [System.Web.HttpUtility]::UrlEncode($env:CallbackUrl)"
   ]
  },
  {
   "cell_type": "markdown",
   "id": "3ff1d374",
   "metadata": {},
   "source": [
    "\n",
    "Store the client ID and client secret securely, as they will be needed in the next steps of the authentication flow. For this illustration, the client ID and client secret are stored in a .env file which is not checked into source control.\n"
   ]
  },
  {
   "cell_type": "code",
   "execution_count": null,
   "id": "bd6966e5",
   "metadata": {
    "language_info": {
     "name": "polyglot-notebook"
    },
    "polyglot_notebook": {
     "kernelName": "pwsh"
    }
   },
   "outputs": [],
   "source": [
    "# Load .env file into the $dotenv hashtable\n",
    "$dotenv = & \"./Load-DotEnv.ps1\""
   ]
  },
  {
   "cell_type": "markdown",
   "id": "46752790",
   "metadata": {},
   "source": [
    "## Step 5 - User Authorization\n",
    "\n",
    "In this step, the client issues a GET request to the authorization endpoint obtained in Step 3. This request includes parameters such as the client ID, redirect URI, requested scopes, and response type (typically \"code\" for the authorization code flow). The user is then redirected to the authorization server's login page to authenticate and authorize the client application."
   ]
  },
  {
   "cell_type": "code",
   "execution_count": null,
   "id": "f6ac0396",
   "metadata": {
    "language_info": {
     "name": "polyglot-notebook"
    },
    "polyglot_notebook": {
     "kernelName": "pwsh"
    }
   },
   "outputs": [],
   "source": [
    "$scopes = [System.Web.HttpUtility]::UrlEncode($env:CallbackUrl)\n",
    "\n",
    "$url = \"$($env:AuthorizeEndpoint)?response_type=code&client_id=$($dotenv['ClientId'])&redirect_uri=$env:CallbackUrlEncoded&scope=$env:Scopes\"\n",
    "echo $url"
   ]
  },
  {
   "cell_type": "markdown",
   "id": "9b8378aa",
   "metadata": {},
   "source": [
    "Get the code from the redirect URL after user authorization."
   ]
  },
  {
   "cell_type": "code",
   "execution_count": null,
   "id": "199ba6de",
   "metadata": {
    "language_info": {
     "name": "polyglot-notebook"
    },
    "polyglot_notebook": {
     "kernelName": "pwsh"
    }
   },
   "outputs": [],
   "source": [
    "$env:authCode=\"4fa7c1de-508c-afda-6f68-58395ad70fd9.56251b8e-1fb4-ae77-61c7-9ceebefd680b.ee6ed1c1-f470-4f90-ac9b-bae05ae3bfa8\""
   ]
  },
  {
   "cell_type": "markdown",
   "id": "16034d55",
   "metadata": {},
   "source": [
    "Once the client has received the authorization code, it can exchange it for an access token using the token endpoint obtained in Step 3.\n",
    "The client sends a POST request to the token endpoint with parameters such as the client ID, authorization code, redirect URI, and grant type (typically \"authorization_code\"). The server responds with an access token (and optionally a refresh token) that the client can use to access protected resources on behalf of the user.\n",
    "\n",
    "The response of this request will include an access_token, which you can use to authenticate subsequent requests to the demo server."
   ]
  },
  {
   "cell_type": "code",
   "execution_count": null,
   "id": "a5b8955a",
   "metadata": {
    "language_info": {
     "name": "polyglot-notebook"
    },
    "polyglot_notebook": {
     "kernelName": "pwsh"
    }
   },
   "outputs": [],
   "source": [
    "$body = \"grant_type=authorization_code\" +\n",
    "        \"&client_id=$($dotenv['ClientId'])\" +\n",
    "        \"&code=$($env:authCode)\" +\n",
    "        \"&redirect_uri=$($env:CallbackUrl)\"\n",
    "\n",
    "$response = curl -s -X POST `\n",
    "  -H \"Content-Type: application/x-www-form-urlencoded\" `\n",
    "  -H \"Accept: application/json\" `\n",
    "  -d \"$body\" `\n",
    "  \"$env:TokenEndpoint\"\n",
    "\n",
    "\n",
    "$env:accessToken = ($response | ConvertFrom-Json).access_token"
   ]
  },
  {
   "cell_type": "markdown",
   "id": "7e39c9b1",
   "metadata": {},
   "source": [
    "## Step 6 - Making Authenticated Requests\n",
    "\n",
    "Here's an example of how to use the access token to make an authenticated request:"
   ]
  },
  {
   "cell_type": "code",
   "execution_count": null,
   "id": "7f66ffcc",
   "metadata": {
    "language_info": {
     "name": "polyglot-notebook"
    },
    "polyglot_notebook": {
     "kernelName": "pwsh"
    }
   },
   "outputs": [],
   "source": [
    "curl -s -X POST `\n",
    "  -H \"Authorization: Bearer $env:accessToken\" `\n",
    "  -H \"Content-Type: application/json\" `\n",
    "  -H \"Accept: application/json, text/event-stream\" `\n",
    "  -d '{\n",
    "    \"jsonrpc\": \"2.0\",\n",
    "    \"id\": 1,\n",
    "    \"method\": \"initialize\",\n",
    "    \"params\": {\n",
    "        \"clientInfo\": {\n",
    "            \"name\": \"Polyglot Notebook\",\n",
    "            \"version\": \"0.1.0\"\n",
    "        },\n",
    "        \"capabilities\": {},\n",
    "        \"protocolVersion\": \"2025-06-18\"\n",
    "    }\n",
    "}' `\n",
    " \"$env:McpServer\""
   ]
  }
 ],
 "metadata": {
  "kernelspec": {
   "display_name": ".NET (C#)",
   "language": "C#",
   "name": ".net-csharp"
  },
  "language_info": {
   "name": "polyglot-notebook"
  },
  "polyglot_notebook": {
   "kernelInfo": {
    "defaultKernelName": "csharp",
    "items": [
     {
      "aliases": [],
      "languageName": "csharp",
      "name": "csharp"
     }
    ]
   }
  }
 },
 "nbformat": 4,
 "nbformat_minor": 5
}
