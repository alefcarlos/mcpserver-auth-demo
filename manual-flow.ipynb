{
 "cells": [
  {
   "cell_type": "markdown",
   "id": "69d300eb",
   "metadata": {
    "language_info": {
     "name": "polyglot-notebook"
    },
    "polyglot_notebook": {
     "kernelName": "csharp"
    }
   },
   "source": [
    "# MCP Authentication Flow - Illustrated\n",
    "\n",
    "This notebook illustrates the end-to-end authentication flow for Model Context Protocol (MCP). The flow involves several key steps, including metadata discovery and parsing, client registration, user authentication, token generation, and access validation.\n",
    "\n",
    "A descripition of this flow is available in the [MCP Authentication Documentation](https://modelcontextprotocol.io/docs/tutorials/security/authorization).\n",
    "\n",
    "This notebook illustrates the authentication flow with the demo server."
   ]
  },
  {
   "cell_type": "code",
   "execution_count": 9,
   "id": "9bfc3822",
   "metadata": {
    "language_info": {
     "name": "polyglot-notebook"
    },
    "polyglot_notebook": {
     "kernelName": "pwsh"
    }
   },
   "outputs": [],
   "source": [
    "$env:McpServer = \"http://localhost:5522/\""
   ]
  },
  {
   "cell_type": "markdown",
   "id": "802e0d8f",
   "metadata": {},
   "source": [
    "## Step 1 - Initial Handshake\n",
    "\n",
    "The initial handshake begins when a client application attempts to access a protected resource on the MCP server. The server responds with 401 Unauthorized status code and provides the client with the MCP metadata URL in the `WWW-Authenticate` header.\n"
   ]
  },
  {
   "cell_type": "code",
   "execution_count": 10,
   "id": "74e72ba7",
   "metadata": {
    "language_info": {
     "name": "polyglot-notebook"
    },
    "polyglot_notebook": {
     "kernelName": "pwsh"
    }
   },
   "outputs": [
    {
     "name": "stdout",
     "output_type": "stream",
     "text": [
      "HTTP/1.1 401 Unauthorized\n",
      "Content-Length: 0\n",
      "Date: Wed, 22 Oct 2025 14:48:24 GMT\n",
      "Server: Kestrel\n",
      "WWW-Authenticate: Bearer realm=\"McpAuth\", resource_metadata=\"http://localhost:5522/.well-known/oauth-protected-resource\"\n",
      "\n"
     ]
    }
   ],
   "source": [
    "curl -s -D - -X POST `\n",
    "  -H \"Content-Type: application/json\" `\n",
    "  -H \"Accept: application/json, text/event-stream\" `\n",
    "  -d '{\"jsonrpc\":\"2.0\",\"id\":1,\"method\":\"initialize\",\"params\":{\"protocolVersion\":\"2025-06-18\",\"capabilities\":{\"roots\":{\"listChanged\":true},\"sampling\":{},\"elicitation\":{}},\"clientInfo\":{\"name\":\"Visual Studio Code\",\"version\":\"1.105.1\"}}}' `\n",
    " \"$env:McpServer\""
   ]
  },
  {
   "cell_type": "markdown",
   "id": "a178d205",
   "metadata": {},
   "source": [
    "## Step 2 - Protected Resource Metadata Discovery\n",
    "\n",
    "When receiving a 401 response in Step 1, the client extracts the MCP metadata URL from the `WWW-Authenticate` header. Then it sends a GET request to this URL to retrieve the Protected Resource Metadata (PRM) document, which contains information about the authentication server(s) that can be used to authenticate and obtain access tokens."
   ]
  },
  {
   "cell_type": "code",
   "execution_count": 11,
   "id": "d6c7dec4",
   "metadata": {
    "language_info": {
     "name": "polyglot-notebook"
    },
    "polyglot_notebook": {
     "kernelName": "pwsh"
    }
   },
   "outputs": [
    {
     "name": "stdout",
     "output_type": "stream",
     "text": [
      "{\"resource\":\"http://localhost:5522\",\"authorization_servers\":[\"http://localhost:8080/realms/local\"],\"bearer_methods_supported\":[\"header\"],\"scopes_supported\":[\"mcp:tools\"],\"resource_documentation\":\"https://docs.example.com/api/math\"}\r\n"
     ]
    }
   ],
   "source": [
    "curl -s -X GET `\n",
    "  -H \"Accept: application/json\" `\n",
    " \"http://localhost:5522/.well-known/oauth-protected-resource\""
   ]
  },
  {
   "cell_type": "markdown",
   "id": "5980dd7a",
   "metadata": {},
   "source": [
    "## Step 3 - Authorization Server Discovery\n",
    "\n",
    "The PRM document should include one or more authorization servers in the `authorization_servers` array. When there is more than one, the client can choose which one to use, but in this case there is only one available. Next, the client retrieves metadata for the authorization server. This could be either OpenID Connect (OIDC) discovery metadata or OAuth 2.0 Authorization Server Metadata, depending on what the authorization server supports. There's no clear indication in the PRM document of which type it is, so the client must try both methods.\n",
    "\n",
    "According to the [OIDC specification], the client appends `/.well-known/openid-configuration` to the \"issuer\" URL to get the OIDC discovery document. The client sends a GET request to this URL and receives the OIDC metadata in response. Unfortunately, at this point all we have is the authorization server's URL, so we'll just try to use that as the issuer URL and hope for the best.\n",
    "\n",
    "[OIDC specification]: https://openid.net/specs/openid-connect-discovery-1_0.html#ProviderConfig"
   ]
  },
  {
   "cell_type": "code",
   "execution_count": 13,
   "id": "6c9c77dd",
   "metadata": {
    "language_info": {
     "name": "polyglot-notebook"
    },
    "polyglot_notebook": {
     "kernelName": "pwsh"
    }
   },
   "outputs": [
    {
     "name": "stdout",
     "output_type": "stream",
     "text": [
      "{\n",
      "  \"issuer\": \"http://localhost:8080/realms/local\",\n",
      "  \"authorization_endpoint\": \"http://localhost:8080/realms/local/protocol/openid-connect/auth\",\n",
      "  \"token_endpoint\": \"http://localhost:8080/realms/local/protocol/openid-connect/token\",\n",
      "  \"introspection_endpoint\": \"http://localhost:8080/realms/local/protocol/openid-connect/token/introspect\",\n",
      "  \"userinfo_endpoint\": \"http://localhost:8080/realms/local/protocol/openid-connect/userinfo\",\n",
      "  \"end_session_endpoint\": \"http://localhost:8080/realms/local/protocol/openid-connect/logout\",\n",
      "  \"frontchannel_logout_session_supported\": true,\n",
      "  \"frontchannel_logout_supported\": true,\n",
      "  \"jwks_uri\": \"http://localhost:8080/realms/local/protocol/openid-connect/certs\",\n",
      "  \"check_session_iframe\": \"http://localhost:8080/realms/local/protocol/openid-connect/login-status-iframe.html\",\n",
      "  \"grant_types_supported\": [\n",
      "    \"authorization_code\",\n",
      "    \"client_credentials\",\n",
      "    \"implicit\",\n",
      "    \"password\",\n",
      "    \"refresh_token\",\n",
      "    \"urn:ietf:params:oauth:grant-type:device_code\",\n",
      "    \"urn:ietf:params:oauth:grant-type:token-exchange\",\n",
      "    \"urn:ietf:params:oauth:grant-type:uma-ticket\",\n",
      "    \"urn:openid:params:grant-type:ciba\"\n",
      "  ],\n",
      "  \"acr_values_supported\": [\n",
      "    \"0\",\n",
      "    \"1\"\n",
      "  ],\n",
      "  \"response_types_supported\": [\n",
      "    \"code\",\n",
      "    \"none\",\n",
      "    \"id_token\",\n",
      "    \"token\",\n",
      "    \"id_token token\",\n",
      "    \"code id_token\",\n",
      "    \"code token\",\n",
      "    \"code id_token token\"\n",
      "  ],\n",
      "  \"subject_types_supported\": [\n",
      "    \"public\",\n",
      "    \"pairwise\"\n",
      "  ],\n",
      "  \"prompt_values_supported\": [\n",
      "    \"none\",\n",
      "    \"login\",\n",
      "    \"consent\"\n",
      "  ],\n",
      "  \"id_token_signing_alg_values_supported\": [\n",
      "    \"PS384\",\n",
      "    \"RS384\",\n",
      "    \"EdDSA\",\n",
      "    \"ES384\",\n",
      "    \"HS256\",\n",
      "    \"HS512\",\n",
      "    \"ES256\",\n",
      "    \"RS256\",\n",
      "    \"HS384\",\n",
      "    \"ES512\",\n",
      "    \"PS256\",\n",
      "    \"PS512\",\n",
      "    \"RS512\"\n",
      "  ],\n",
      "  \"id_token_encryption_alg_values_supported\": [\n",
      "    \"ECDH-ES+A256KW\",\n",
      "    \"ECDH-ES+A192KW\",\n",
      "    \"ECDH-ES+A128KW\",\n",
      "    \"RSA-OAEP\",\n",
      "    \"RSA-OAEP-256\",\n",
      "    \"RSA1_5\",\n",
      "    \"ECDH-ES\"\n",
      "  ],\n",
      "  \"id_token_encryption_enc_values_supported\": [\n",
      "    \"A256GCM\",\n",
      "    \"A192GCM\",\n",
      "    \"A128GCM\",\n",
      "    \"A128CBC-HS256\",\n",
      "    \"A192CBC-HS384\",\n",
      "    \"A256CBC-HS512\"\n",
      "  ],\n",
      "  \"userinfo_signing_alg_values_supported\": [\n",
      "    \"PS384\",\n",
      "    \"RS384\",\n",
      "    \"EdDSA\",\n",
      "    \"ES384\",\n",
      "    \"HS256\",\n",
      "    \"HS512\",\n",
      "    \"ES256\",\n",
      "    \"RS256\",\n",
      "    \"HS384\",\n",
      "    \"ES512\",\n",
      "    \"PS256\",\n",
      "    \"PS512\",\n",
      "    \"RS512\",\n",
      "    \"none\"\n",
      "  ],\n",
      "  \"userinfo_encryption_alg_values_supported\": [\n",
      "    \"ECDH-ES+A256KW\",\n",
      "    \"ECDH-ES+A192KW\",\n",
      "    \"ECDH-ES+A128KW\",\n",
      "    \"RSA-OAEP\",\n",
      "    \"RSA-OAEP-256\",\n",
      "    \"RSA1_5\",\n",
      "    \"ECDH-ES\"\n",
      "  ],\n",
      "  \"userinfo_encryption_enc_values_supported\": [\n",
      "    \"A256GCM\",\n",
      "    \"A192GCM\",\n",
      "    \"A128GCM\",\n",
      "    \"A128CBC-HS256\",\n",
      "    \"A192CBC-HS384\",\n",
      "    \"A256CBC-HS512\"\n",
      "  ],\n",
      "  \"request_object_signing_alg_values_supported\": [\n",
      "    \"PS384\",\n",
      "    \"RS384\",\n",
      "    \"EdDSA\",\n",
      "    \"ES384\",\n",
      "    \"HS256\",\n",
      "    \"HS512\",\n",
      "    \"ES256\",\n",
      "    \"RS256\",\n",
      "    \"HS384\",\n",
      "    \"ES512\",\n",
      "    \"PS256\",\n",
      "    \"PS512\",\n",
      "    \"RS512\",\n",
      "    \"none\"\n",
      "  ],\n",
      "  \"request_object_encryption_alg_values_supported\": [\n",
      "    \"ECDH-ES+A256KW\",\n",
      "    \"ECDH-ES+A192KW\",\n",
      "    \"ECDH-ES+A128KW\",\n",
      "    \"RSA-OAEP\",\n",
      "    \"RSA-OAEP-256\",\n",
      "    \"RSA1_5\",\n",
      "    \"ECDH-ES\"\n",
      "  ],\n",
      "  \"request_object_encryption_enc_values_supported\": [\n",
      "    \"A256GCM\",\n",
      "    \"A192GCM\",\n",
      "    \"A128GCM\",\n",
      "    \"A128CBC-HS256\",\n",
      "    \"A192CBC-HS384\",\n",
      "    \"A256CBC-HS512\"\n",
      "  ],\n",
      "  \"response_modes_supported\": [\n",
      "    \"query\",\n",
      "    \"fragment\",\n",
      "    \"form_post\",\n",
      "    \"query.jwt\",\n",
      "    \"fragment.jwt\",\n",
      "    \"form_post.jwt\",\n",
      "    \"jwt\"\n",
      "  ],\n",
      "  \"registration_endpoint\": \"http://localhost:8080/realms/local/clients-registrations/openid-connect\",\n",
      "  \"token_endpoint_auth_methods_supported\": [\n",
      "    \"private_key_jwt\",\n",
      "    \"client_secret_basic\",\n",
      "    \"client_secret_post\",\n",
      "    \"tls_client_auth\",\n",
      "    \"client_secret_jwt\"\n",
      "  ],\n",
      "  \"token_endpoint_auth_signing_alg_values_supported\": [\n",
      "    \"PS384\",\n",
      "    \"RS384\",\n",
      "    \"EdDSA\",\n",
      "    \"ES384\",\n",
      "    \"HS256\",\n",
      "    \"HS512\",\n",
      "    \"ES256\",\n",
      "    \"RS256\",\n",
      "    \"HS384\",\n",
      "    \"ES512\",\n",
      "    \"PS256\",\n",
      "    \"PS512\",\n",
      "    \"RS512\"\n",
      "  ],\n",
      "  \"introspection_endpoint_auth_methods_supported\": [\n",
      "    \"private_key_jwt\",\n",
      "    \"client_secret_basic\",\n",
      "    \"client_secret_post\",\n",
      "    \"tls_client_auth\",\n",
      "    \"client_secret_jwt\"\n",
      "  ],\n",
      "  \"introspection_endpoint_auth_signing_alg_values_supported\": [\n",
      "    \"PS384\",\n",
      "    \"RS384\",\n",
      "    \"EdDSA\",\n",
      "    \"ES384\",\n",
      "    \"HS256\",\n",
      "    \"HS512\",\n",
      "    \"ES256\",\n",
      "    \"RS256\",\n",
      "    \"HS384\",\n",
      "    \"ES512\",\n",
      "    \"PS256\",\n",
      "    \"PS512\",\n",
      "    \"RS512\"\n",
      "  ],\n",
      "  \"authorization_signing_alg_values_supported\": [\n",
      "    \"PS384\",\n",
      "    \"RS384\",\n",
      "    \"EdDSA\",\n",
      "    \"ES384\",\n",
      "    \"HS256\",\n",
      "    \"HS512\",\n",
      "    \"ES256\",\n",
      "    \"RS256\",\n",
      "    \"HS384\",\n",
      "    \"ES512\",\n",
      "    \"PS256\",\n",
      "    \"PS512\",\n",
      "    \"RS512\"\n",
      "  ],\n",
      "  \"authorization_encryption_alg_values_supported\": [\n",
      "    \"ECDH-ES+A256KW\",\n",
      "    \"ECDH-ES+A192KW\",\n",
      "    \"ECDH-ES+A128KW\",\n",
      "    \"RSA-OAEP\",\n",
      "    \"RSA-OAEP-256\",\n",
      "    \"RSA1_5\",\n",
      "    \"ECDH-ES\"\n",
      "  ],\n",
      "  \"authorization_encryption_enc_values_supported\": [\n",
      "    \"A256GCM\",\n",
      "    \"A192GCM\",\n",
      "    \"A128GCM\",\n",
      "    \"A128CBC-HS256\",\n",
      "    \"A192CBC-HS384\",\n",
      "    \"A256CBC-HS512\"\n",
      "  ],\n",
      "  \"claims_supported\": [\n",
      "    \"iss\",\n",
      "    \"sub\",\n",
      "    \"aud\",\n",
      "    \"exp\",\n",
      "    \"iat\",\n",
      "    \"auth_time\",\n",
      "    \"name\",\n",
      "    \"given_name\",\n",
      "    \"family_name\",\n",
      "    \"preferred_username\",\n",
      "    \"email\",\n",
      "    \"acr\",\n",
      "    \"azp\",\n",
      "    \"nonce\"\n",
      "  ],\n",
      "  \"claim_types_supported\": [\n",
      "    \"normal\"\n",
      "  ],\n",
      "  \"claims_parameter_supported\": true,\n",
      "  \"scopes_supported\": [\n",
      "    \"openid\",\n",
      "    \"web-origins\",\n",
      "    \"phone\",\n",
      "    \"roles\",\n",
      "    \"mcp:tools\",\n",
      "    \"microprofile-jwt\",\n",
      "    \"service_account\",\n",
      "    \"offline_access\",\n",
      "    \"acr\",\n",
      "    \"basic\",\n",
      "    \"profile\",\n",
      "    \"organization\",\n",
      "    \"email\",\n",
      "    \"address\"\n",
      "  ],\n",
      "  \"request_parameter_supported\": true,\n",
      "  \"request_uri_parameter_supported\": true,\n",
      "  \"require_request_uri_registration\": true,\n",
      "  \"code_challenge_methods_supported\": [\n",
      "    \"plain\",\n",
      "    \"S256\"\n",
      "  ],\n",
      "  \"tls_client_certificate_bound_access_tokens\": true,\n",
      "  \"dpop_signing_alg_values_supported\": [\n",
      "    \"PS384\",\n",
      "    \"RS384\",\n",
      "    \"EdDSA\",\n",
      "    \"ES384\",\n",
      "    \"ES256\",\n",
      "    \"RS256\",\n",
      "    \"ES512\",\n",
      "    \"PS256\",\n",
      "    \"PS512\",\n",
      "    \"RS512\"\n",
      "  ],\n",
      "  \"revocation_endpoint\": \"http://localhost:8080/realms/local/protocol/openid-connect/revoke\",\n",
      "  \"revocation_endpoint_auth_methods_supported\": [\n",
      "    \"private_key_jwt\",\n",
      "    \"client_secret_basic\",\n",
      "    \"client_secret_post\",\n",
      "    \"tls_client_auth\",\n",
      "    \"client_secret_jwt\"\n",
      "  ],\n",
      "  \"revocation_endpoint_auth_signing_alg_values_supported\": [\n",
      "    \"PS384\",\n",
      "    \"RS384\",\n",
      "    \"EdDSA\",\n",
      "    \"ES384\",\n",
      "    \"HS256\",\n",
      "    \"HS512\",\n",
      "    \"ES256\",\n",
      "    \"RS256\",\n",
      "    \"HS384\",\n",
      "    \"ES512\",\n",
      "    \"PS256\",\n",
      "    \"PS512\",\n",
      "    \"RS512\"\n",
      "  ],\n",
      "  \"backchannel_logout_supported\": true,\n",
      "  \"backchannel_logout_session_supported\": true,\n",
      "  \"device_authorization_endpoint\": \"http://localhost:8080/realms/local/protocol/openid-connect/auth/device\",\n",
      "  \"backchannel_token_delivery_modes_supported\": [\n",
      "    \"poll\",\n",
      "    \"ping\"\n",
      "  ],\n",
      "  \"backchannel_authentication_endpoint\": \"http://localhost:8080/realms/local/protocol/openid-connect/ext/ciba/auth\",\n",
      "  \"backchannel_authentication_request_signing_alg_values_supported\": [\n",
      "    \"PS384\",\n",
      "    \"RS384\",\n",
      "    \"EdDSA\",\n",
      "    \"ES384\",\n",
      "    \"ES256\",\n",
      "    \"RS256\",\n",
      "    \"ES512\",\n",
      "    \"PS256\",\n",
      "    \"PS512\",\n",
      "    \"RS512\"\n",
      "  ],\n",
      "  \"require_pushed_authorization_requests\": false,\n",
      "  \"pushed_authorization_request_endpoint\": \"http://localhost:8080/realms/local/protocol/openid-connect/ext/par/request\",\n",
      "  \"mtls_endpoint_aliases\": {\n",
      "    \"token_endpoint\": \"http://localhost:8080/realms/local/protocol/openid-connect/token\",\n",
      "    \"revocation_endpoint\": \"http://localhost:8080/realms/local/protocol/openid-connect/revoke\",\n",
      "    \"introspection_endpoint\": \"http://localhost:8080/realms/local/protocol/openid-connect/token/introspect\",\n",
      "    \"device_authorization_endpoint\": \"http://localhost:8080/realms/local/protocol/openid-connect/auth/device\",\n",
      "    \"registration_endpoint\": \"http://localhost:8080/realms/local/clients-registrations/openid-connect\",\n",
      "    \"userinfo_endpoint\": \"http://localhost:8080/realms/local/protocol/openid-connect/userinfo\",\n",
      "    \"pushed_authorization_request_endpoint\": \"http://localhost:8080/realms/local/protocol/openid-connect/ext/par/request\",\n",
      "    \"backchannel_authentication_endpoint\": \"http://localhost:8080/realms/local/protocol/openid-connect/ext/ciba/auth\"\n",
      "  },\n",
      "  \"authorization_response_iss_parameter_supported\": true\n",
      "}\n"
     ]
    }
   ],
   "source": [
    "$env:MCP_Auth_Server = \"http://localhost:8080/realms/local\"\n",
    "$env:MCP_OIDC_Metadata = \"$env:MCP_Auth_Server/.well-known/openid-configuration\"\n",
    "\n",
    "curl -s -X GET `\n",
    "  -H \"Accept: application/json\" `\n",
    " \"$env:MCP_OIDC_Metadata\" | jq ."
   ]
  },
  {
   "cell_type": "markdown",
   "id": "cdd6103e",
   "metadata": {},
   "source": [
    "What we are looking for in this metadata is the authorization endpoint, token endpoint, and supported scopes, which will be used in the subsequent steps of the authentication flow. And the scopes are clearly indicated in the `scopes_supported` field of the OIDC metadata.\n",
    "\n",
    "But we don't see the authorization endpoint or token endpoint in the OIDC metadata. In this case, the best approach, and the one that happens to work with GitHub, is to assume the standard OAuth 2.0 endpoint paths:\n",
    "- Authorization Endpoint: `{authorization_server_url}/protocol/openid-connect/auth`\n",
    "- Token Endpoint: `{authorization_server_url}/protocol/openid-connect/token`"
   ]
  },
  {
   "cell_type": "code",
   "execution_count": 100,
   "id": "fd794402",
   "metadata": {
    "language_info": {
     "name": "polyglot-notebook"
    },
    "polyglot_notebook": {
     "kernelName": "pwsh"
    }
   },
   "outputs": [],
   "source": [
    "$env:Scopes =  \"openid%20mcp:tools\"\n",
    "\n",
    "$env:AuthorizeEndpoint = \"$env:MCP_Auth_Server/protocol/openid-connect/auth\"\n",
    "$env:TokenEndpoint = \"$env:MCP_Auth_Server/protocol/openid-connect/token\""
   ]
  },
  {
   "cell_type": "markdown",
   "id": "d7f7f2de",
   "metadata": {},
   "source": [
    "## Step 4 - Client Registration\n",
    "\n",
    "When the authorization server supports dynamic client registration, the authorization server metadata will include a `registration_endpoint` field. The client can use this endpoint to register itself with the authorization server by sending a POST request with its details, such as redirect URIs and client name. The server responds with a client ID and client secret, which the client will use in subsequent authentication requests."
   ]
  },
  {
   "cell_type": "markdown",
   "id": "fecfb737",
   "metadata": {},
   "source": [
    "### Manual Client Registration\n",
    "\n",
    "TBD"
   ]
  },
  {
   "cell_type": "code",
   "execution_count": 101,
   "id": "259b6c88",
   "metadata": {
    "language_info": {
     "name": "polyglot-notebook"
    },
    "polyglot_notebook": {
     "kernelName": "pwsh"
    }
   },
   "outputs": [],
   "source": [
    "Add-Type -AssemblyName System.Web\n",
    "\n",
    "$env:CallbackUrl = \"http://127.0.0.1/\"\n",
    "$env:CallbackUrlEncoded = [System.Web.HttpUtility]::UrlEncode($env:CallbackUrl)"
   ]
  },
  {
   "cell_type": "markdown",
   "id": "3ff1d374",
   "metadata": {},
   "source": [
    "\n",
    "Store the client ID and client secret securely, as they will be needed in the next steps of the authentication flow. For this illustration, the client ID and client secret are stored in a .env file which is not checked into source control.\n"
   ]
  },
  {
   "cell_type": "code",
   "execution_count": 102,
   "id": "bd6966e5",
   "metadata": {
    "language_info": {
     "name": "polyglot-notebook"
    },
    "polyglot_notebook": {
     "kernelName": "pwsh"
    }
   },
   "outputs": [],
   "source": [
    "# Load .env file into the $dotenv hashtable\n",
    "$dotenv = & \"./Load-DotEnv.ps1\""
   ]
  },
  {
   "cell_type": "markdown",
   "id": "46752790",
   "metadata": {},
   "source": [
    "## Step 5 - User Authorization\n",
    "\n",
    "In this step, the client issues a GET request to the authorization endpoint obtained in Step 3. This request includes parameters such as the client ID, redirect URI, requested scopes, and response type (typically \"code\" for the authorization code flow). The user is then redirected to the authorization server's login page to authenticate and authorize the client application."
   ]
  },
  {
   "cell_type": "code",
   "execution_count": 103,
   "id": "f6ac0396",
   "metadata": {
    "language_info": {
     "name": "polyglot-notebook"
    },
    "polyglot_notebook": {
     "kernelName": "pwsh"
    }
   },
   "outputs": [
    {
     "name": "stdout",
     "output_type": "stream",
     "text": [
      "http://localhost:8080/realms/local/protocol/openid-connect/auth?response_type=code&client_id=ee6ed1c1-f470-4f90-ac9b-bae05ae3bfa8&redirect_uri=http%3a%2f%2f127.0.0.1%2f&scope=openid%20mcp:tools\r\n"
     ]
    }
   ],
   "source": [
    "$scopes = [System.Web.HttpUtility]::UrlEncode($env:CallbackUrl)\n",
    "\n",
    "$url = \"$($env:AuthorizeEndpoint)?response_type=code&client_id=$($dotenv['ClientId'])&redirect_uri=$env:CallbackUrlEncoded&scope=$env:Scopes\"\n",
    "echo $url"
   ]
  },
  {
   "cell_type": "markdown",
   "id": "9b8378aa",
   "metadata": {},
   "source": [
    "The response above is a HTTP 302 redirect to your specified callback URL with an authorization code included as a query parameter. The client will receive an authorization code in the query parameter at the redirect URI.\n",
    "\n",
    "Click on the link in the \"Location\" header and the redirect will open in a browser. Copy the code from the URL for the next step in the authentication flow."
   ]
  },
  {
   "cell_type": "code",
   "execution_count": 104,
   "id": "199ba6de",
   "metadata": {
    "language_info": {
     "name": "polyglot-notebook"
    },
    "polyglot_notebook": {
     "kernelName": "pwsh"
    }
   },
   "outputs": [],
   "source": [
    "$env:authCode=\"a548ebc5-465a-c6f9-b500-888d775ab271.56251b8e-1fb4-ae77-61c7-9ceebefd680b.ee6ed1c1-f470-4f90-ac9b-bae05ae3bfa8\""
   ]
  },
  {
   "cell_type": "markdown",
   "id": "16034d55",
   "metadata": {},
   "source": [
    "Once the client has received the authorization code, it can exchange it for an access token using the token endpoint obtained in Step 3.\n",
    "The client sends a POST request to the token endpoint with parameters such as the client ID, client secret, authorization code, redirect URI, and grant type (typically \"authorization_code\"). The server responds with an access token (and optionally a refresh token) that the client can use to access protected resources on behalf of the user.\n",
    "\n",
    "The response of this request will include an access_token, which you can use to authenticate subsequent requests to the GitHub API."
   ]
  },
  {
   "cell_type": "code",
   "execution_count": 105,
   "id": "a5b8955a",
   "metadata": {
    "language_info": {
     "name": "polyglot-notebook"
    },
    "polyglot_notebook": {
     "kernelName": "pwsh"
    }
   },
   "outputs": [],
   "source": [
    "$body = \"grant_type=authorization_code\" +\n",
    "        \"&client_id=$($dotenv['ClientId'])\" +\n",
    "        \"&code=$($env:authCode)\" +\n",
    "        \"&redirect_uri=$($env:CallbackUrl)\"\n",
    "\n",
    "$response = curl -s -X POST `\n",
    "  -H \"Content-Type: application/x-www-form-urlencoded\" `\n",
    "  -H \"Accept: application/json\" `\n",
    "  -d \"$body\" `\n",
    "  \"$env:TokenEndpoint\"\n",
    "\n",
    "\n",
    "$env:accessToken = ($response | ConvertFrom-Json).access_token"
   ]
  },
  {
   "cell_type": "markdown",
   "id": "7e39c9b1",
   "metadata": {},
   "source": [
    "## Step 6 - Making Authenticated Requests\n",
    "\n",
    "Here's an example of how to use the access token to make an authenticated request:"
   ]
  },
  {
   "cell_type": "code",
   "execution_count": 106,
   "id": "7f66ffcc",
   "metadata": {
    "language_info": {
     "name": "polyglot-notebook"
    },
    "polyglot_notebook": {
     "kernelName": "pwsh"
    }
   },
   "outputs": [
    {
     "data": {
      "text/html": [
       "<details open=\"open\" class=\"dni-treeview\"><summary><span class=\"dni-code-hint\"><code>jq: parse error: Invalid numeric literal at line 1, column 6</code></span></summary><div><table><thead><tr></tr></thead><tbody><tr><td>Exception</td><td><details class=\"dni-treeview\"><summary><span class=\"dni-code-hint\"><code>System.Management.Automation.RemoteException: jq: parse error: Invalid numeric literal at line 1, column 6</code></span></summary><div><table><thead><tr></tr></thead><tbody><tr><td>SerializedRemoteException</td><td><div class=\"dni-plaintext\"><pre>&lt;null&gt;</pre></div></td></tr><tr><td>SerializedRemoteInvocationInfo</td><td><div class=\"dni-plaintext\"><pre>&lt;null&gt;</pre></div></td></tr><tr><td>ErrorRecord</td><td><details class=\"dni-treeview\"><summary><span class=\"dni-code-hint\"><code>jq: parse error: Invalid numeric literal at line 1, column 6</code></span></summary><div><table><thead><tr></tr></thead><tbody><tr><td>Exception</td><td><details class=\"dni-treeview\"><summary><span class=\"dni-code-hint\"><code>System.Management.Automation.ParentContainsErrorRecordException: jq: parse error: Invalid numeric literal at line 1, column 6</code></span></summary><div><table><thead><tr></tr></thead><tbody><tr><td>Message</td><td><div class=\"dni-plaintext\"><pre>jq: parse error: Invalid numeric literal at line 1, column 6</pre></div></td></tr><tr><td>TargetSite</td><td><div class=\"dni-plaintext\"><pre>&lt;null&gt;</pre></div></td></tr><tr><td>Data</td><td><i>(empty)</i></td></tr><tr><td>InnerException</td><td><div class=\"dni-plaintext\"><pre>&lt;null&gt;</pre></div></td></tr><tr><td>HelpLink</td><td><div class=\"dni-plaintext\"><pre>&lt;null&gt;</pre></div></td></tr><tr><td>Source</td><td><div class=\"dni-plaintext\"><pre>&lt;null&gt;</pre></div></td></tr><tr><td>HResult</td><td><div class=\"dni-plaintext\"><pre>-2146233087</pre></div></td></tr><tr><td>StackTrace</td><td><div class=\"dni-plaintext\"><pre>&lt;null&gt;</pre></div></td></tr></tbody></table></div></details></td></tr><tr><td>TargetObject</td><td><div class=\"dni-plaintext\"><pre>&lt;null&gt;</pre></div></td></tr><tr><td>CategoryInfo</td><td><details class=\"dni-treeview\"><summary><span class=\"dni-code-hint\"><code>NotSpecified: (:) [], ParentContainsErrorRecordException</code></span></summary><div><table><thead><tr></tr></thead><tbody><tr><td>Category</td><td><span>NotSpecified</span></td></tr><tr><td>Activity</td><td><div class=\"dni-plaintext\"><pre></pre></div></td></tr><tr><td>Reason</td><td><div class=\"dni-plaintext\"><pre>ParentContainsErrorRecordException</pre></div></td></tr><tr><td>TargetName</td><td><div class=\"dni-plaintext\"><pre></pre></div></td></tr><tr><td>TargetType</td><td><div class=\"dni-plaintext\"><pre></pre></div></td></tr></tbody></table></div></details></td></tr><tr><td>FullyQualifiedErrorId</td><td><div class=\"dni-plaintext\"><pre>RuntimeException</pre></div></td></tr><tr><td>ErrorDetails</td><td><div class=\"dni-plaintext\"><pre>&lt;null&gt;</pre></div></td></tr><tr><td>InvocationInfo</td><td><div class=\"dni-plaintext\"><pre>&lt;null&gt;</pre></div></td></tr><tr><td>ScriptStackTrace</td><td><div class=\"dni-plaintext\"><pre>&lt;null&gt;</pre></div></td></tr><tr><td>PipelineIterationInfo</td><td><div class=\"dni-plaintext\"><pre>[  ]</pre></div></td></tr></tbody></table></div></details></td></tr><tr><td>WasThrownFromThrowStatement</td><td><div class=\"dni-plaintext\"><pre>False</pre></div></td></tr><tr><td>TargetSite</td><td><div class=\"dni-plaintext\"><pre>&lt;null&gt;</pre></div></td></tr><tr><td>Message</td><td><div class=\"dni-plaintext\"><pre>jq: parse error: Invalid numeric literal at line 1, column 6</pre></div></td></tr><tr><td>Data</td><td><i>(empty)</i></td></tr><tr><td>InnerException</td><td><div class=\"dni-plaintext\"><pre>&lt;null&gt;</pre></div></td></tr><tr><td>HelpLink</td><td><div class=\"dni-plaintext\"><pre>&lt;null&gt;</pre></div></td></tr><tr><td>Source</td><td><div class=\"dni-plaintext\"><pre>&lt;null&gt;</pre></div></td></tr><tr><td>HResult</td><td><div class=\"dni-plaintext\"><pre>-2146233087</pre></div></td></tr><tr><td>StackTrace</td><td><div class=\"dni-plaintext\"><pre>&lt;null&gt;</pre></div></td></tr></tbody></table></div></details></td></tr><tr><td>TargetObject</td><td><div class=\"dni-plaintext\"><pre>jq: parse error: Invalid numeric literal at line 1, column 6</pre></div></td></tr><tr><td>CategoryInfo</td><td><details class=\"dni-treeview\"><summary><span class=\"dni-code-hint\"><code>NotSpecified: (jq: parse error: In…at line 1, column 6:String) [], RemoteException</code></span></summary><div><table><thead><tr></tr></thead><tbody><tr><td>Category</td><td><span>NotSpecified</span></td></tr><tr><td>Activity</td><td><div class=\"dni-plaintext\"><pre></pre></div></td></tr><tr><td>Reason</td><td><div class=\"dni-plaintext\"><pre>RemoteException</pre></div></td></tr><tr><td>TargetName</td><td><div class=\"dni-plaintext\"><pre>jq: parse error: Invalid numeric literal at line 1, column 6</pre></div></td></tr><tr><td>TargetType</td><td><div class=\"dni-plaintext\"><pre>String</pre></div></td></tr></tbody></table></div></details></td></tr><tr><td>FullyQualifiedErrorId</td><td><div class=\"dni-plaintext\"><pre>NativeCommandError</pre></div></td></tr><tr><td>ErrorDetails</td><td><div class=\"dni-plaintext\"><pre>&lt;null&gt;</pre></div></td></tr><tr><td>InvocationInfo</td><td><details class=\"dni-treeview\"><summary><span class=\"dni-code-hint\"><code>System.Management.Automation.InvocationInfo</code></span></summary><div><table><thead><tr></tr></thead><tbody><tr><td>MyCommand</td><td><details class=\"dni-treeview\"><summary><span class=\"dni-code-hint\"><code>jq.exe</code></span></summary><div><table><thead><tr></tr></thead><tbody><tr><td>Path</td><td><div class=\"dni-plaintext\"><pre>C:\\Users\\alefcarlos\\AppData\\Local\\Microsoft\\WinGet\\Packages\\jqlang.jq_Microsoft.Winget.Source_8wekyb3d8bbwe\\jq.exe</pre></div></td></tr><tr><td>Extension</td><td><div class=\"dni-plaintext\"><pre>.exe</pre></div></td></tr><tr><td>Definition</td><td><div class=\"dni-plaintext\"><pre>C:\\Users\\alefcarlos\\AppData\\Local\\Microsoft\\WinGet\\Packages\\jqlang.jq_Microsoft.Winget.Source_8wekyb3d8bbwe\\jq.exe</pre></div></td></tr><tr><td>Source</td><td><div class=\"dni-plaintext\"><pre>C:\\Users\\alefcarlos\\AppData\\Local\\Microsoft\\WinGet\\Packages\\jqlang.jq_Microsoft.Winget.Source_8wekyb3d8bbwe\\jq.exe</pre></div></td></tr><tr><td>Version</td><td><details class=\"dni-treeview\"><summary><span class=\"dni-code-hint\"><code>0.0.0.0</code></span></summary><div><table><thead><tr></tr></thead><tbody><tr><td>Major</td><td><div class=\"dni-plaintext\"><pre>0</pre></div></td></tr><tr><td>Minor</td><td><div class=\"dni-plaintext\"><pre>0</pre></div></td></tr><tr><td>Build</td><td><div class=\"dni-plaintext\"><pre>0</pre></div></td></tr><tr><td>Revision</td><td><div class=\"dni-plaintext\"><pre>0</pre></div></td></tr><tr><td>MajorRevision</td><td><div class=\"dni-plaintext\"><pre>0</pre></div></td></tr><tr><td>MinorRevision</td><td><div class=\"dni-plaintext\"><pre>0</pre></div></td></tr></tbody></table></div></details></td></tr><tr><td>Visibility</td><td><span>Public</span></td></tr><tr><td>OutputType</td><td><table><thead><tr><th><i>index</i></th><th>value</th></tr></thead><tbody><tr><td>0</td><td><details class=\"dni-treeview\"><summary><span class=\"dni-code-hint\"><code>System.String</code></span></summary><div><table><thead><tr></tr></thead><tbody><tr><td>Name</td><td><div class=\"dni-plaintext\"><pre>System.String</pre></div></td></tr><tr><td>Type</td><td><span><a href=\"https://docs.microsoft.com/dotnet/api/system.string?view=net-7.0\">System.String</a></span></td></tr><tr><td>TypeDefinitionAst</td><td><div class=\"dni-plaintext\"><pre>&lt;null&gt;</pre></div></td></tr></tbody></table></div></details></td></tr></tbody></table></td></tr><tr><td>Name</td><td><div class=\"dni-plaintext\"><pre>jq.exe</pre></div></td></tr><tr><td>CommandType</td><td><span>Application</span></td></tr><tr><td>ModuleName</td><td><div class=\"dni-plaintext\"><pre></pre></div></td></tr><tr><td>Module</td><td><div class=\"dni-plaintext\"><pre>&lt;null&gt;</pre></div></td></tr><tr><td>RemotingCapability</td><td><span>PowerShell</span></td></tr><tr><td>Parameters</td><td><details class=\"dni-treeview\"><summary><span class=\"dni-code-hint\"><code>System.Management.Automation.PSNotSupportedException: Cannot perform operation because operation &quot;NewNotSupportedException at offset 63 in file:line:column &lt;filename unknown&gt;:0:0\\r\\n&quot; is not supported.\\r\\n   at System.Management.Automation.CommandMetadata..ctor(CommandInfo commandInfo, Boolean shoul...</code></span></summary><div><table><thead><tr></tr></thead><tbody><tr><td>ErrorRecord</td><td><details class=\"dni-treeview\"><summary><span class=\"dni-code-hint\"><code>Cannot perform operation because operation &quot;NewNotSupportedException at offset 63 in file:line:column &lt;filename unknown&gt;:0:0\\r\\n&quot; is not supported.</code></span></summary><div><table><thead><tr></tr></thead><tbody><tr><td>Exception</td><td><details class=\"dni-treeview\"><summary><span class=\"dni-code-hint\"><code>System.Management.Automation.ParentContainsErrorRecordException: Cannot perform operation because operation &quot;NewNotSupportedException at offset 63 in file:line:column &lt;filename unknown&gt;:0:0\\r\\n&quot; is not supported.</code></span></summary><div><table><thead><tr></tr></thead><tbody><tr><td>Message</td><td>Cannot perform operation because operation \"NewNotSupportedException at offset 63 in file:line:column <filename unknown>:0:0\r\n",
       "\" is not supported.</td></tr><tr><td>TargetSite</td><td><div class=\"dni-plaintext\"><pre>&lt;null&gt;</pre></div></td></tr><tr><td>Data</td><td>[  ]</td></tr><tr><td>InnerException</td><td><div class=\"dni-plaintext\"><pre>&lt;null&gt;</pre></div></td></tr><tr><td>HelpLink</td><td><div class=\"dni-plaintext\"><pre>&lt;null&gt;</pre></div></td></tr><tr><td>Source</td><td><div class=\"dni-plaintext\"><pre>&lt;null&gt;</pre></div></td></tr><tr><td>HResult</td><td>-2146233087</td></tr><tr><td>StackTrace</td><td><div class=\"dni-plaintext\"><pre>&lt;null&gt;</pre></div></td></tr></tbody></table></div></details></td></tr><tr><td>TargetObject</td><td><div class=\"dni-plaintext\"><pre>&lt;null&gt;</pre></div></td></tr><tr><td>CategoryInfo</td><td><details class=\"dni-treeview\"><summary><span class=\"dni-code-hint\"><code>NotImplemented: (:) [], ParentContainsErrorRecordException</code></span></summary><div><table><thead><tr></tr></thead><tbody><tr><td>Category</td><td>NotImplemented</td></tr><tr><td>Activity</td><td></td></tr><tr><td>Reason</td><td>ParentContainsErrorRecordException</td></tr><tr><td>TargetName</td><td></td></tr><tr><td>TargetType</td><td></td></tr></tbody></table></div></details></td></tr><tr><td>FullyQualifiedErrorId</td><td><div class=\"dni-plaintext\"><pre>NotSupported</pre></div></td></tr><tr><td>ErrorDetails</td><td><div class=\"dni-plaintext\"><pre>&lt;null&gt;</pre></div></td></tr><tr><td>InvocationInfo</td><td><div class=\"dni-plaintext\"><pre>&lt;null&gt;</pre></div></td></tr><tr><td>ScriptStackTrace</td><td><div class=\"dni-plaintext\"><pre>&lt;null&gt;</pre></div></td></tr><tr><td>PipelineIterationInfo</td><td><div class=\"dni-plaintext\"><pre>[  ]</pre></div></td></tr></tbody></table></div></details></td></tr><tr><td>TargetSite</td><td><details class=\"dni-treeview\"><summary><span class=\"dni-code-hint\"><code>Void .ctor(System.Management.Automation.CommandInfo, Boolean)</code></span></summary><div><table><thead><tr></tr></thead><tbody><tr><td>Name</td><td><div class=\"dni-plaintext\"><pre>.ctor</pre></div></td></tr><tr><td>MemberType</td><td><span>Constructor</span></td></tr><tr><td>DeclaringType</td><td><span><a href=\"https://docs.microsoft.com/dotnet/api/system.management.automation.commandmetadata?view=net-7.0\">System.Management.Automation.CommandMetadata</a></span></td></tr><tr><td>ReflectedType</td><td><span><a href=\"https://docs.microsoft.com/dotnet/api/system.management.automation.commandmetadata?view=net-7.0\">System.Management.Automation.CommandMetadata</a></span></td></tr><tr><td>MetadataToken</td><td><div class=\"dni-plaintext\"><pre>100667362</pre></div></td></tr><tr><td>Module</td><td><details class=\"dni-treeview\"><summary><span class=\"dni-code-hint\"><code>System.Management.Automation.dll</code></span></summary><div><table><thead><tr></tr></thead><tbody><tr><td>MDStreamVersion</td><td>131072</td></tr><tr><td>FullyQualifiedName</td><td>C:\\Users\\alefcarlos\\.nuget\\packages\\microsoft.dotnet-interactive\\1.0.632301\\tools\\net9.0\\any\\runtimes\\win\\lib\\net9.0\\System.Management.Automation.dll</td></tr><tr><td>ModuleVersionId</td><td>2c7b292a-c630-42b3-b443-11ac323a8242</td></tr><tr><td>MetadataToken</td><td>1</td></tr><tr><td>ScopeName</td><td>System.Management.Automation.dll</td></tr><tr><td>Name</td><td>System.Management.Automation.dll</td></tr><tr><td>Assembly</td><td>System.Management.Automation, Version=7.5.0.500, Culture=neutral, PublicKeyToken=31bf3856ad364e35</td></tr><tr><td>ModuleHandle</td><td>System.ModuleHandle</td></tr><tr><td>CustomAttributes</td><td>[ [System.Security.UnverifiableCodeAttribute()], [System.Runtime.CompilerServices.RefSafetyRulesAttribute((Int32)11)] ]</td></tr></tbody></table></div></details></td></tr><tr><td>MethodHandle</td><td><details class=\"dni-treeview\"><summary><span class=\"dni-code-hint\"><code>System.RuntimeMethodHandle</code></span></summary><div><table><thead><tr></tr></thead><tbody><tr><td>Value</td><td>140720024863000</td></tr></tbody></table></div></details></td></tr><tr><td>Attributes</td><td><span>Public, HideBySig, SpecialName, RTSpecialName</span></td></tr><tr><td>CallingConvention</td><td><span>Standard, HasThis</span></td></tr><tr><td>IsSecurityCritical</td><td><div class=\"dni-plaintext\"><pre>True</pre></div></td></tr><tr><td>IsSecuritySafeCritical</td><td><div class=\"dni-plaintext\"><pre>False</pre></div></td></tr><tr><td>IsSecurityTransparent</td><td><div class=\"dni-plaintext\"><pre>False</pre></div></td></tr><tr><td>ContainsGenericParameters</td><td><div class=\"dni-plaintext\"><pre>False</pre></div></td></tr><tr><td>MethodImplementationFlags</td><td><span>IL</span></td></tr><tr><td>IsAbstract</td><td><div class=\"dni-plaintext\"><pre>False</pre></div></td></tr><tr><td>IsConstructor</td><td><div class=\"dni-plaintext\"><pre>True</pre></div></td></tr><tr><td>IsFinal</td><td><div class=\"dni-plaintext\"><pre>False</pre></div></td></tr><tr><td>IsHideBySig</td><td><div class=\"dni-plaintext\"><pre>True</pre></div></td></tr><tr><td>IsSpecialName</td><td><div class=\"dni-plaintext\"><pre>True</pre></div></td></tr><tr><td>IsStatic</td><td><div class=\"dni-plaintext\"><pre>False</pre></div></td></tr><tr><td>IsVirtual</td><td><div class=\"dni-plaintext\"><pre>False</pre></div></td></tr><tr><td>IsAssembly</td><td><div class=\"dni-plaintext\"><pre>False</pre></div></td></tr><tr><td>IsFamily</td><td><div class=\"dni-plaintext\"><pre>False</pre></div></td></tr><tr><td>IsFamilyAndAssembly</td><td><div class=\"dni-plaintext\"><pre>False</pre></div></td></tr><tr><td>IsFamilyOrAssembly</td><td><div class=\"dni-plaintext\"><pre>False</pre></div></td></tr><tr><td>IsPrivate</td><td><div class=\"dni-plaintext\"><pre>False</pre></div></td></tr><tr><td>IsPublic</td><td><div class=\"dni-plaintext\"><pre>True</pre></div></td></tr><tr><td>IsConstructedGenericMethod</td><td><div class=\"dni-plaintext\"><pre>False</pre></div></td></tr><tr><td>IsGenericMethod</td><td><div class=\"dni-plaintext\"><pre>False</pre></div></td></tr><tr><td>IsGenericMethodDefinition</td><td><div class=\"dni-plaintext\"><pre>False</pre></div></td></tr><tr><td>CustomAttributes</td><td><i>(empty)</i></td></tr><tr><td>IsCollectible</td><td><div class=\"dni-plaintext\"><pre>True</pre></div></td></tr></tbody></table></div></details></td></tr><tr><td>Message</td><td><div class=\"dni-plaintext\"><pre>Cannot perform operation because operation &quot;NewNotSupportedException at offset 63 in file:line:column &lt;filename unknown&gt;:0:0\r\n",
       "&quot; is not supported.</pre></div></td></tr><tr><td>Data</td><td><i>(empty)</i></td></tr><tr><td>InnerException</td><td><div class=\"dni-plaintext\"><pre>&lt;null&gt;</pre></div></td></tr><tr><td>HelpLink</td><td><div class=\"dni-plaintext\"><pre>&lt;null&gt;</pre></div></td></tr><tr><td>Source</td><td><div class=\"dni-plaintext\"><pre>System.Management.Automation</pre></div></td></tr><tr><td>HResult</td><td><div class=\"dni-plaintext\"><pre>-2146233067</pre></div></td></tr><tr><td>StackTrace</td><td><div class=\"dni-plaintext\"><pre>   at System.Management.Automation.CommandMetadata..ctor(CommandInfo commandInfo, Boolean shouldGenerateCommonParameters)\r\n",
       "   at System.Management.Automation.CommandInfo.get_ExternalCommandMetadata()\r\n",
       "   at System.Management.Automation.CommandInfo.get_Parameters()\r\n",
       "   at lambda_method218(Closure, ApplicationInfo)\r\n",
       "   at Microsoft.DotNet.Interactive.Formatting.MemberAccessor`1.GetValueOrException(T instance) in D:\\a\\_work\\1\\s\\src\\Microsoft.DotNet.Interactive.Formatting\\MemberAccessor{T}.cs:line 58</pre></div></td></tr></tbody></table></div></details></td></tr><tr><td>ParameterSets</td><td><details class=\"dni-treeview\"><summary><span class=\"dni-code-hint\"><code>System.InvalidOperationException: Operation is not valid due to the current state of the object.\\r\\n   at System.Management.Automation.CommandInfo.get_CommandMetadata()\\r\\n   at System.Management.Automation.CommandInfo.get_ParameterSets()\\r\\n   at lambda_method219(Closure, ApplicationInfo)\\r\\n   at ...</code></span></summary><div><table><thead><tr></tr></thead><tbody><tr><td>TargetSite</td><td><details class=\"dni-treeview\"><summary><span class=\"dni-code-hint\"><code>System.Management.Automation.CommandMetadata get_CommandMetadata()</code></span></summary><div><table><thead><tr></tr></thead><tbody><tr><td>Name</td><td><div class=\"dni-plaintext\"><pre>get_CommandMetadata</pre></div></td></tr><tr><td>DeclaringType</td><td><span><a href=\"https://docs.microsoft.com/dotnet/api/system.management.automation.commandinfo?view=net-7.0\">System.Management.Automation.CommandInfo</a></span></td></tr><tr><td>ReflectedType</td><td><span><a href=\"https://docs.microsoft.com/dotnet/api/system.management.automation.commandinfo?view=net-7.0\">System.Management.Automation.CommandInfo</a></span></td></tr><tr><td>MemberType</td><td><span>Method</span></td></tr><tr><td>MetadataToken</td><td><div class=\"dni-plaintext\"><pre>100667314</pre></div></td></tr><tr><td>Module</td><td><details class=\"dni-treeview\"><summary><span class=\"dni-code-hint\"><code>System.Management.Automation.dll</code></span></summary><div><table><thead><tr></tr></thead><tbody><tr><td>MDStreamVersion</td><td>131072</td></tr><tr><td>FullyQualifiedName</td><td>C:\\Users\\alefcarlos\\.nuget\\packages\\microsoft.dotnet-interactive\\1.0.632301\\tools\\net9.0\\any\\runtimes\\win\\lib\\net9.0\\System.Management.Automation.dll</td></tr><tr><td>ModuleVersionId</td><td>2c7b292a-c630-42b3-b443-11ac323a8242</td></tr><tr><td>MetadataToken</td><td>1</td></tr><tr><td>ScopeName</td><td>System.Management.Automation.dll</td></tr><tr><td>Name</td><td>System.Management.Automation.dll</td></tr><tr><td>Assembly</td><td>System.Management.Automation, Version=7.5.0.500, Culture=neutral, PublicKeyToken=31bf3856ad364e35</td></tr><tr><td>ModuleHandle</td><td>System.ModuleHandle</td></tr><tr><td>CustomAttributes</td><td>[ [System.Security.UnverifiableCodeAttribute()], [System.Runtime.CompilerServices.RefSafetyRulesAttribute((Int32)11)] ]</td></tr></tbody></table></div></details></td></tr><tr><td>IsSecurityCritical</td><td><div class=\"dni-plaintext\"><pre>True</pre></div></td></tr><tr><td>IsSecuritySafeCritical</td><td><div class=\"dni-plaintext\"><pre>False</pre></div></td></tr><tr><td>IsSecurityTransparent</td><td><div class=\"dni-plaintext\"><pre>False</pre></div></td></tr><tr><td>MethodHandle</td><td><details class=\"dni-treeview\"><summary><span class=\"dni-code-hint\"><code>System.RuntimeMethodHandle</code></span></summary><div><table><thead><tr></tr></thead><tbody><tr><td>Value</td><td>140720008778040</td></tr></tbody></table></div></details></td></tr><tr><td>Attributes</td><td><span>Assembly, Virtual, HideBySig, VtableLayoutMask, CheckAccessOnOverride, SpecialName</span></td></tr><tr><td>CallingConvention</td><td><span>Standard, HasThis</span></td></tr><tr><td>ReturnType</td><td><span><a href=\"https://docs.microsoft.com/dotnet/api/system.management.automation.commandmetadata?view=net-7.0\">System.Management.Automation.CommandMetadata</a></span></td></tr><tr><td>ReturnTypeCustomAttributes</td><td><details class=\"dni-treeview\"><summary><span class=\"dni-code-hint\"><code>System.Management.Automation.CommandMetadata</code></span></summary><div><table><thead><tr></tr></thead><tbody><tr><td>ParameterType</td><td>System.Management.Automation.CommandMetadata</td></tr><tr><td>Name</td><td><div class=\"dni-plaintext\"><pre>&lt;null&gt;</pre></div></td></tr><tr><td>HasDefaultValue</td><td>False</td></tr><tr><td>DefaultValue</td><td></td></tr><tr><td>RawDefaultValue</td><td></td></tr><tr><td>MetadataToken</td><td>134217728</td></tr><tr><td>Attributes</td><td>None</td></tr><tr><td>Member</td><td>System.Management.Automation.CommandMetadata get_CommandMetadata()</td></tr><tr><td>Position</td><td>-1</td></tr><tr><td>IsIn</td><td>False</td></tr><tr><td>IsLcid</td><td>False</td></tr><tr><td>IsOptional</td><td>False</td></tr><tr><td>IsOut</td><td>False</td></tr><tr><td>IsRetval</td><td>False</td></tr><tr><td>CustomAttributes</td><td>[  ]</td></tr></tbody></table></div></details></td></tr><tr><td>ReturnParameter</td><td><details class=\"dni-treeview\"><summary><span class=\"dni-code-hint\"><code>System.Management.Automation.CommandMetadata</code></span></summary><div><table><thead><tr></tr></thead><tbody><tr><td>ParameterType</td><td>System.Management.Automation.CommandMetadata</td></tr><tr><td>Name</td><td><div class=\"dni-plaintext\"><pre>&lt;null&gt;</pre></div></td></tr><tr><td>HasDefaultValue</td><td>False</td></tr><tr><td>DefaultValue</td><td></td></tr><tr><td>RawDefaultValue</td><td></td></tr><tr><td>MetadataToken</td><td>134217728</td></tr><tr><td>Attributes</td><td>None</td></tr><tr><td>Member</td><td>System.Management.Automation.CommandMetadata get_CommandMetadata()</td></tr><tr><td>Position</td><td>-1</td></tr><tr><td>IsIn</td><td>False</td></tr><tr><td>IsLcid</td><td>False</td></tr><tr><td>IsOptional</td><td>False</td></tr><tr><td>IsOut</td><td>False</td></tr><tr><td>IsRetval</td><td>False</td></tr><tr><td>CustomAttributes</td><td>[  ]</td></tr></tbody></table></div></details></td></tr><tr><td>IsCollectible</td><td><div class=\"dni-plaintext\"><pre>False</pre></div></td></tr><tr><td>IsGenericMethod</td><td><div class=\"dni-plaintext\"><pre>False</pre></div></td></tr><tr><td>IsGenericMethodDefinition</td><td><div class=\"dni-plaintext\"><pre>False</pre></div></td></tr><tr><td>ContainsGenericParameters</td><td><div class=\"dni-plaintext\"><pre>False</pre></div></td></tr><tr><td>MethodImplementationFlags</td><td><span>IL</span></td></tr><tr><td>IsAbstract</td><td><div class=\"dni-plaintext\"><pre>False</pre></div></td></tr><tr><td>IsConstructor</td><td><div class=\"dni-plaintext\"><pre>False</pre></div></td></tr><tr><td>IsFinal</td><td><div class=\"dni-plaintext\"><pre>False</pre></div></td></tr><tr><td>IsHideBySig</td><td><div class=\"dni-plaintext\"><pre>True</pre></div></td></tr><tr><td>IsSpecialName</td><td><div class=\"dni-plaintext\"><pre>True</pre></div></td></tr><tr><td>IsStatic</td><td><div class=\"dni-plaintext\"><pre>False</pre></div></td></tr><tr><td>IsVirtual</td><td><div class=\"dni-plaintext\"><pre>True</pre></div></td></tr><tr><td>IsAssembly</td><td><div class=\"dni-plaintext\"><pre>True</pre></div></td></tr><tr><td>IsFamily</td><td><div class=\"dni-plaintext\"><pre>False</pre></div></td></tr><tr><td>IsFamilyAndAssembly</td><td><div class=\"dni-plaintext\"><pre>False</pre></div></td></tr><tr><td>IsFamilyOrAssembly</td><td><div class=\"dni-plaintext\"><pre>False</pre></div></td></tr><tr><td>IsPrivate</td><td><div class=\"dni-plaintext\"><pre>False</pre></div></td></tr><tr><td>IsPublic</td><td><div class=\"dni-plaintext\"><pre>False</pre></div></td></tr><tr><td>IsConstructedGenericMethod</td><td><div class=\"dni-plaintext\"><pre>False</pre></div></td></tr><tr><td>CustomAttributes</td><td><i>(empty)</i></td></tr></tbody></table></div></details></td></tr><tr><td>Message</td><td><div class=\"dni-plaintext\"><pre>Operation is not valid due to the current state of the object.</pre></div></td></tr><tr><td>Data</td><td><i>(empty)</i></td></tr><tr><td>InnerException</td><td><div class=\"dni-plaintext\"><pre>&lt;null&gt;</pre></div></td></tr><tr><td>HelpLink</td><td><div class=\"dni-plaintext\"><pre>&lt;null&gt;</pre></div></td></tr><tr><td>Source</td><td><div class=\"dni-plaintext\"><pre>System.Management.Automation</pre></div></td></tr><tr><td>HResult</td><td><div class=\"dni-plaintext\"><pre>-2146233079</pre></div></td></tr><tr><td>StackTrace</td><td><div class=\"dni-plaintext\"><pre>   at System.Management.Automation.CommandInfo.get_CommandMetadata()\r\n",
       "   at System.Management.Automation.CommandInfo.get_ParameterSets()\r\n",
       "   at lambda_method219(Closure, ApplicationInfo)\r\n",
       "   at Microsoft.DotNet.Interactive.Formatting.MemberAccessor`1.GetValueOrException(T instance) in D:\\a\\_work\\1\\s\\src\\Microsoft.DotNet.Interactive.Formatting\\MemberAccessor{T}.cs:line 58</pre></div></td></tr></tbody></table></div></details></td></tr></tbody></table></div></details></td></tr><tr><td>BoundParameters</td><td><i>(empty)</i></td></tr><tr><td>UnboundArguments</td><td><i>(empty)</i></td></tr><tr><td>ScriptLineNumber</td><td><div class=\"dni-plaintext\"><pre>18</pre></div></td></tr><tr><td>OffsetInLine</td><td><div class=\"dni-plaintext\"><pre>21</pre></div></td></tr><tr><td>HistoryId</td><td><div class=\"dni-plaintext\"><pre>-1</pre></div></td></tr><tr><td>ScriptName</td><td><div class=\"dni-plaintext\"><pre></pre></div></td></tr><tr><td>Line</td><td><div class=\"dni-plaintext\"><pre> &quot;$env:McpServer&quot; | jq .</pre></div></td></tr><tr><td>Statement</td><td><div class=\"dni-plaintext\"><pre>jq .</pre></div></td></tr><tr><td>PositionMessage</td><td><div class=\"dni-plaintext\"><pre>At line:18 char:21\r\n",
       "+  &quot;$env:McpServer&quot; | jq .\r\n",
       "+                     ~~~~</pre></div></td></tr><tr><td>PSScriptRoot</td><td><div class=\"dni-plaintext\"><pre></pre></div></td></tr><tr><td>PSCommandPath</td><td><div class=\"dni-plaintext\"><pre>&lt;null&gt;</pre></div></td></tr><tr><td>InvocationName</td><td><div class=\"dni-plaintext\"><pre>jq</pre></div></td></tr><tr><td>PipelineLength</td><td><div class=\"dni-plaintext\"><pre>0</pre></div></td></tr><tr><td>PipelinePosition</td><td><div class=\"dni-plaintext\"><pre>0</pre></div></td></tr><tr><td>ExpectingInput</td><td><div class=\"dni-plaintext\"><pre>False</pre></div></td></tr><tr><td>CommandOrigin</td><td><span>Internal</span></td></tr><tr><td>DisplayScriptPosition</td><td><div class=\"dni-plaintext\"><pre>&lt;null&gt;</pre></div></td></tr></tbody></table></div></details></td></tr><tr><td>ScriptStackTrace</td><td><div class=\"dni-plaintext\"><pre>at &lt;ScriptBlock&gt;, &lt;No file&gt;: line 1</pre></div></td></tr><tr><td>PipelineIterationInfo</td><td><div class=\"dni-plaintext\"><pre>[ 0, 0, 0 ]</pre></div></td></tr></tbody></table></div></details><style>\r\n",
       ".dni-code-hint {\r\n",
       "    font-style: italic;\r\n",
       "    overflow: hidden;\r\n",
       "    white-space: nowrap;\r\n",
       "}\r\n",
       ".dni-treeview {\r\n",
       "    white-space: nowrap;\r\n",
       "}\r\n",
       ".dni-treeview td {\r\n",
       "    vertical-align: top;\r\n",
       "    text-align: start;\r\n",
       "}\r\n",
       "details.dni-treeview {\r\n",
       "    padding-left: 1em;\r\n",
       "}\r\n",
       "table td {\r\n",
       "    text-align: start;\r\n",
       "}\r\n",
       "table tr { \r\n",
       "    vertical-align: top; \r\n",
       "    margin: 0em 0px;\r\n",
       "}\r\n",
       "table tr td pre \r\n",
       "{ \r\n",
       "    vertical-align: top !important; \r\n",
       "    margin: 0em 0px !important;\r\n",
       "} \r\n",
       "table th {\r\n",
       "    text-align: start;\r\n",
       "}\r\n",
       "</style>"
      ]
     },
     "metadata": {},
     "output_type": "display_data"
    }
   ],
   "source": [
    "curl -s -X POST `\n",
    "  -H \"Authorization: Bearer $env:accessToken\" `\n",
    "  -H \"Content-Type: application/json\" `\n",
    "  -H \"Accept: application/json, text/event-stream\" `\n",
    "  -d '{\n",
    "    \"jsonrpc\": \"2.0\",\n",
    "    \"id\": 1,\n",
    "    \"method\": \"initialize\",\n",
    "    \"params\": {\n",
    "        \"clientInfo\": {\n",
    "            \"name\": \"Polyglot Notebook\",\n",
    "            \"version\": \"0.1.0\"\n",
    "        },\n",
    "        \"capabilities\": {},\n",
    "        \"protocolVersion\": \"2025-06-18\"\n",
    "    }\n",
    "}' `\n",
    " \"$env:McpServer\" | jq ."
   ]
  }
 ],
 "metadata": {
  "kernelspec": {
   "display_name": ".NET (C#)",
   "language": "C#",
   "name": ".net-csharp"
  },
  "language_info": {
   "name": "polyglot-notebook"
  },
  "polyglot_notebook": {
   "kernelInfo": {
    "defaultKernelName": "csharp",
    "items": [
     {
      "aliases": [],
      "languageName": "csharp",
      "name": "csharp"
     }
    ]
   }
  }
 },
 "nbformat": 4,
 "nbformat_minor": 5
}
