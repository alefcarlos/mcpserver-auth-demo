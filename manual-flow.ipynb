{
 "cells": [
  {
   "cell_type": "markdown",
   "id": "69d300eb",
   "metadata": {
    "language_info": {
     "name": "polyglot-notebook"
    },
    "polyglot_notebook": {
     "kernelName": "csharp"
    }
   },
   "source": [
    "# MCP Authentication Flow - Illustrated\n",
    "\n",
    "This notebook illustrates the end-to-end authentication flow for Model Context Protocol (MCP). The flow involves several key steps, including metadata discovery and parsing, client registration, user authentication, token generation, and access validation.\n",
    "\n",
    "A descripition of this flow is available in the [MCP Authentication Documentation](https://modelcontextprotocol.io/docs/tutorials/security/authorization).\n",
    "\n",
    "This notebook illustrates the authentication flow with the demo server."
   ]
  },
  {
   "cell_type": "code",
   "execution_count": 108,
   "id": "9bfc3822",
   "metadata": {
    "language_info": {
     "name": "polyglot-notebook"
    },
    "polyglot_notebook": {
     "kernelName": "pwsh"
    }
   },
   "outputs": [],
   "source": [
    "$env:McpServer = \"http://localhost:5522/\""
   ]
  },
  {
   "cell_type": "markdown",
   "id": "802e0d8f",
   "metadata": {},
   "source": [
    "## Step 1 - Initial Handshake\n",
    "\n",
    "The initial handshake begins when a client application attempts to access a protected resource on the MCP server. The server responds with 401 Unauthorized status code and provides the client with the MCP metadata URL in the `WWW-Authenticate` header.\n"
   ]
  },
  {
   "cell_type": "code",
   "execution_count": 109,
   "id": "74e72ba7",
   "metadata": {
    "language_info": {
     "name": "polyglot-notebook"
    },
    "polyglot_notebook": {
     "kernelName": "pwsh"
    }
   },
   "outputs": [
    {
     "name": "stdout",
     "output_type": "stream",
     "text": [
      "HTTP/1.1 401 Unauthorized\n",
      "Content-Length: 0\n",
      "Date: Wed, 22 Oct 2025 16:15:03 GMT\n",
      "Server: Kestrel\n",
      "WWW-Authenticate: Bearer realm=\"McpAuth\", resource_metadata=\"http://localhost:5522/.well-known/oauth-protected-resource\"\n",
      "\n"
     ]
    }
   ],
   "source": [
    "curl -s -D - -X POST `\n",
    "  -H \"Content-Type: application/json\" `\n",
    "  -H \"Accept: application/json, text/event-stream\" `\n",
    "  -d '{\"jsonrpc\":\"2.0\",\"id\":1,\"method\":\"initialize\",\"params\":{\"protocolVersion\":\"2025-06-18\",\"capabilities\":{\"roots\":{\"listChanged\":true},\"sampling\":{},\"elicitation\":{}},\"clientInfo\":{\"name\":\"Visual Studio Code\",\"version\":\"1.105.1\"}}}' `\n",
    " \"$env:McpServer\""
   ]
  },
  {
   "cell_type": "markdown",
   "id": "a178d205",
   "metadata": {},
   "source": [
    "## Step 2 - Protected Resource Metadata Discovery\n",
    "\n",
    "When receiving a 401 response in Step 1, the client extracts the MCP metadata URL from the `WWW-Authenticate` header. Then it sends a GET request to this URL to retrieve the Protected Resource Metadata (PRM) document, which contains information about the authentication server(s) that can be used to authenticate and obtain access tokens."
   ]
  },
  {
   "cell_type": "code",
   "execution_count": 110,
   "id": "d6c7dec4",
   "metadata": {
    "language_info": {
     "name": "polyglot-notebook"
    },
    "polyglot_notebook": {
     "kernelName": "pwsh"
    }
   },
   "outputs": [
    {
     "name": "stdout",
     "output_type": "stream",
     "text": [
      "{\"resource\":\"http://localhost:5522\",\"authorization_servers\":[\"http://localhost:8080/realms/local\"],\"bearer_methods_supported\":[\"header\"],\"scopes_supported\":[\"mcp:tools\"],\"resource_documentation\":\"https://docs.example.com/api/math\"}\r\n"
     ]
    }
   ],
   "source": [
    "curl -s -X GET `\n",
    "  -H \"Accept: application/json\" `\n",
    " \"http://localhost:5522/.well-known/oauth-protected-resource\""
   ]
  },
  {
   "cell_type": "markdown",
   "id": "5980dd7a",
   "metadata": {},
   "source": [
    "## Step 3 - Authorization Server Discovery\n",
    "\n",
    "The PRM document should include one or more authorization servers in the `authorization_servers` array. When there is more than one, the client can choose which one to use, but in this case there is only one available. Next, the client retrieves metadata for the authorization server. This could be either OpenID Connect (OIDC) discovery metadata or OAuth 2.0 Authorization Server Metadata, depending on what the authorization server supports. There's no clear indication in the PRM document of which type it is, so the client must try both methods.\n",
    "\n",
    "According to the [OIDC specification], the client appends `/.well-known/openid-configuration` to the \"issuer\" URL to get the OIDC discovery document. The client sends a GET request to this URL and receives the OIDC metadata in response. Unfortunately, at this point all we have is the authorization server's URL, so we'll just try to use that as the issuer URL and hope for the best.\n",
    "\n",
    "[OIDC specification]: https://openid.net/specs/openid-connect-discovery-1_0.html#ProviderConfig"
   ]
  },
  {
   "cell_type": "code",
   "execution_count": 111,
   "id": "6c9c77dd",
   "metadata": {
    "language_info": {
     "name": "polyglot-notebook"
    },
    "polyglot_notebook": {
     "kernelName": "pwsh"
    }
   },
   "outputs": [
    {
     "name": "stdout",
     "output_type": "stream",
     "text": [
      "{\n",
      "  \"issuer\": \"http://localhost:8080/realms/local\",\n",
      "  \"authorization_endpoint\": \"http://localhost:8080/realms/local/protocol/openid-connect/auth\",\n",
      "  \"token_endpoint\": \"http://localhost:8080/realms/local/protocol/openid-connect/token\",\n",
      "  \"introspection_endpoint\": \"http://localhost:8080/realms/local/protocol/openid-connect/token/introspect\",\n",
      "  \"userinfo_endpoint\": \"http://localhost:8080/realms/local/protocol/openid-connect/userinfo\",\n",
      "  \"end_session_endpoint\": \"http://localhost:8080/realms/local/protocol/openid-connect/logout\",\n",
      "  \"frontchannel_logout_session_supported\": true,\n",
      "  \"frontchannel_logout_supported\": true,\n",
      "  \"jwks_uri\": \"http://localhost:8080/realms/local/protocol/openid-connect/certs\",\n",
      "  \"check_session_iframe\": \"http://localhost:8080/realms/local/protocol/openid-connect/login-status-iframe.html\",\n",
      "  \"grant_types_supported\": [\n",
      "    \"authorization_code\",\n",
      "    \"client_credentials\",\n",
      "    \"implicit\",\n",
      "    \"password\",\n",
      "    \"refresh_token\",\n",
      "    \"urn:ietf:params:oauth:grant-type:device_code\",\n",
      "    \"urn:ietf:params:oauth:grant-type:token-exchange\",\n",
      "    \"urn:ietf:params:oauth:grant-type:uma-ticket\",\n",
      "    \"urn:openid:params:grant-type:ciba\"\n",
      "  ],\n",
      "  \"acr_values_supported\": [\n",
      "    \"0\",\n",
      "    \"1\"\n",
      "  ],\n",
      "  \"response_types_supported\": [\n",
      "    \"code\",\n",
      "    \"none\",\n",
      "    \"id_token\",\n",
      "    \"token\",\n",
      "    \"id_token token\",\n",
      "    \"code id_token\",\n",
      "    \"code token\",\n",
      "    \"code id_token token\"\n",
      "  ],\n",
      "  \"subject_types_supported\": [\n",
      "    \"public\",\n",
      "    \"pairwise\"\n",
      "  ],\n",
      "  \"prompt_values_supported\": [\n",
      "    \"none\",\n",
      "    \"login\",\n",
      "    \"consent\"\n",
      "  ],\n",
      "  \"id_token_signing_alg_values_supported\": [\n",
      "    \"PS384\",\n",
      "    \"RS384\",\n",
      "    \"EdDSA\",\n",
      "    \"ES384\",\n",
      "    \"HS256\",\n",
      "    \"HS512\",\n",
      "    \"ES256\",\n",
      "    \"RS256\",\n",
      "    \"HS384\",\n",
      "    \"ES512\",\n",
      "    \"PS256\",\n",
      "    \"PS512\",\n",
      "    \"RS512\"\n",
      "  ],\n",
      "  \"id_token_encryption_alg_values_supported\": [\n",
      "    \"ECDH-ES+A256KW\",\n",
      "    \"ECDH-ES+A192KW\",\n",
      "    \"ECDH-ES+A128KW\",\n",
      "    \"RSA-OAEP\",\n",
      "    \"RSA-OAEP-256\",\n",
      "    \"RSA1_5\",\n",
      "    \"ECDH-ES\"\n",
      "  ],\n",
      "  \"id_token_encryption_enc_values_supported\": [\n",
      "    \"A256GCM\",\n",
      "    \"A192GCM\",\n",
      "    \"A128GCM\",\n",
      "    \"A128CBC-HS256\",\n",
      "    \"A192CBC-HS384\",\n",
      "    \"A256CBC-HS512\"\n",
      "  ],\n",
      "  \"userinfo_signing_alg_values_supported\": [\n",
      "    \"PS384\",\n",
      "    \"RS384\",\n",
      "    \"EdDSA\",\n",
      "    \"ES384\",\n",
      "    \"HS256\",\n",
      "    \"HS512\",\n",
      "    \"ES256\",\n",
      "    \"RS256\",\n",
      "    \"HS384\",\n",
      "    \"ES512\",\n",
      "    \"PS256\",\n",
      "    \"PS512\",\n",
      "    \"RS512\",\n",
      "    \"none\"\n",
      "  ],\n",
      "  \"userinfo_encryption_alg_values_supported\": [\n",
      "    \"ECDH-ES+A256KW\",\n",
      "    \"ECDH-ES+A192KW\",\n",
      "    \"ECDH-ES+A128KW\",\n",
      "    \"RSA-OAEP\",\n",
      "    \"RSA-OAEP-256\",\n",
      "    \"RSA1_5\",\n",
      "    \"ECDH-ES\"\n",
      "  ],\n",
      "  \"userinfo_encryption_enc_values_supported\": [\n",
      "    \"A256GCM\",\n",
      "    \"A192GCM\",\n",
      "    \"A128GCM\",\n",
      "    \"A128CBC-HS256\",\n",
      "    \"A192CBC-HS384\",\n",
      "    \"A256CBC-HS512\"\n",
      "  ],\n",
      "  \"request_object_signing_alg_values_supported\": [\n",
      "    \"PS384\",\n",
      "    \"RS384\",\n",
      "    \"EdDSA\",\n",
      "    \"ES384\",\n",
      "    \"HS256\",\n",
      "    \"HS512\",\n",
      "    \"ES256\",\n",
      "    \"RS256\",\n",
      "    \"HS384\",\n",
      "    \"ES512\",\n",
      "    \"PS256\",\n",
      "    \"PS512\",\n",
      "    \"RS512\",\n",
      "    \"none\"\n",
      "  ],\n",
      "  \"request_object_encryption_alg_values_supported\": [\n",
      "    \"ECDH-ES+A256KW\",\n",
      "    \"ECDH-ES+A192KW\",\n",
      "    \"ECDH-ES+A128KW\",\n",
      "    \"RSA-OAEP\",\n",
      "    \"RSA-OAEP-256\",\n",
      "    \"RSA1_5\",\n",
      "    \"ECDH-ES\"\n",
      "  ],\n",
      "  \"request_object_encryption_enc_values_supported\": [\n",
      "    \"A256GCM\",\n",
      "    \"A192GCM\",\n",
      "    \"A128GCM\",\n",
      "    \"A128CBC-HS256\",\n",
      "    \"A192CBC-HS384\",\n",
      "    \"A256CBC-HS512\"\n",
      "  ],\n",
      "  \"response_modes_supported\": [\n",
      "    \"query\",\n",
      "    \"fragment\",\n",
      "    \"form_post\",\n",
      "    \"query.jwt\",\n",
      "    \"fragment.jwt\",\n",
      "    \"form_post.jwt\",\n",
      "    \"jwt\"\n",
      "  ],\n",
      "  \"registration_endpoint\": \"http://localhost:8080/realms/local/clients-registrations/openid-connect\",\n",
      "  \"token_endpoint_auth_methods_supported\": [\n",
      "    \"private_key_jwt\",\n",
      "    \"client_secret_basic\",\n",
      "    \"client_secret_post\",\n",
      "    \"tls_client_auth\",\n",
      "    \"client_secret_jwt\"\n",
      "  ],\n",
      "  \"token_endpoint_auth_signing_alg_values_supported\": [\n",
      "    \"PS384\",\n",
      "    \"RS384\",\n",
      "    \"EdDSA\",\n",
      "    \"ES384\",\n",
      "    \"HS256\",\n",
      "    \"HS512\",\n",
      "    \"ES256\",\n",
      "    \"RS256\",\n",
      "    \"HS384\",\n",
      "    \"ES512\",\n",
      "    \"PS256\",\n",
      "    \"PS512\",\n",
      "    \"RS512\"\n",
      "  ],\n",
      "  \"introspection_endpoint_auth_methods_supported\": [\n",
      "    \"private_key_jwt\",\n",
      "    \"client_secret_basic\",\n",
      "    \"client_secret_post\",\n",
      "    \"tls_client_auth\",\n",
      "    \"client_secret_jwt\"\n",
      "  ],\n",
      "  \"introspection_endpoint_auth_signing_alg_values_supported\": [\n",
      "    \"PS384\",\n",
      "    \"RS384\",\n",
      "    \"EdDSA\",\n",
      "    \"ES384\",\n",
      "    \"HS256\",\n",
      "    \"HS512\",\n",
      "    \"ES256\",\n",
      "    \"RS256\",\n",
      "    \"HS384\",\n",
      "    \"ES512\",\n",
      "    \"PS256\",\n",
      "    \"PS512\",\n",
      "    \"RS512\"\n",
      "  ],\n",
      "  \"authorization_signing_alg_values_supported\": [\n",
      "    \"PS384\",\n",
      "    \"RS384\",\n",
      "    \"EdDSA\",\n",
      "    \"ES384\",\n",
      "    \"HS256\",\n",
      "    \"HS512\",\n",
      "    \"ES256\",\n",
      "    \"RS256\",\n",
      "    \"HS384\",\n",
      "    \"ES512\",\n",
      "    \"PS256\",\n",
      "    \"PS512\",\n",
      "    \"RS512\"\n",
      "  ],\n",
      "  \"authorization_encryption_alg_values_supported\": [\n",
      "    \"ECDH-ES+A256KW\",\n",
      "    \"ECDH-ES+A192KW\",\n",
      "    \"ECDH-ES+A128KW\",\n",
      "    \"RSA-OAEP\",\n",
      "    \"RSA-OAEP-256\",\n",
      "    \"RSA1_5\",\n",
      "    \"ECDH-ES\"\n",
      "  ],\n",
      "  \"authorization_encryption_enc_values_supported\": [\n",
      "    \"A256GCM\",\n",
      "    \"A192GCM\",\n",
      "    \"A128GCM\",\n",
      "    \"A128CBC-HS256\",\n",
      "    \"A192CBC-HS384\",\n",
      "    \"A256CBC-HS512\"\n",
      "  ],\n",
      "  \"claims_supported\": [\n",
      "    \"iss\",\n",
      "    \"sub\",\n",
      "    \"aud\",\n",
      "    \"exp\",\n",
      "    \"iat\",\n",
      "    \"auth_time\",\n",
      "    \"name\",\n",
      "    \"given_name\",\n",
      "    \"family_name\",\n",
      "    \"preferred_username\",\n",
      "    \"email\",\n",
      "    \"acr\",\n",
      "    \"azp\",\n",
      "    \"nonce\"\n",
      "  ],\n",
      "  \"claim_types_supported\": [\n",
      "    \"normal\"\n",
      "  ],\n",
      "  \"claims_parameter_supported\": true,\n",
      "  \"scopes_supported\": [\n",
      "    \"openid\",\n",
      "    \"web-origins\",\n",
      "    \"phone\",\n",
      "    \"roles\",\n",
      "    \"mcp:tools\",\n",
      "    \"microprofile-jwt\",\n",
      "    \"service_account\",\n",
      "    \"offline_access\",\n",
      "    \"acr\",\n",
      "    \"basic\",\n",
      "    \"profile\",\n",
      "    \"organization\",\n",
      "    \"email\",\n",
      "    \"address\"\n",
      "  ],\n",
      "  \"request_parameter_supported\": true,\n",
      "  \"request_uri_parameter_supported\": true,\n",
      "  \"require_request_uri_registration\": true,\n",
      "  \"code_challenge_methods_supported\": [\n",
      "    \"plain\",\n",
      "    \"S256\"\n",
      "  ],\n",
      "  \"tls_client_certificate_bound_access_tokens\": true,\n",
      "  \"dpop_signing_alg_values_supported\": [\n",
      "    \"PS384\",\n",
      "    \"RS384\",\n",
      "    \"EdDSA\",\n",
      "    \"ES384\",\n",
      "    \"ES256\",\n",
      "    \"RS256\",\n",
      "    \"ES512\",\n",
      "    \"PS256\",\n",
      "    \"PS512\",\n",
      "    \"RS512\"\n",
      "  ],\n",
      "  \"revocation_endpoint\": \"http://localhost:8080/realms/local/protocol/openid-connect/revoke\",\n",
      "  \"revocation_endpoint_auth_methods_supported\": [\n",
      "    \"private_key_jwt\",\n",
      "    \"client_secret_basic\",\n",
      "    \"client_secret_post\",\n",
      "    \"tls_client_auth\",\n",
      "    \"client_secret_jwt\"\n",
      "  ],\n",
      "  \"revocation_endpoint_auth_signing_alg_values_supported\": [\n",
      "    \"PS384\",\n",
      "    \"RS384\",\n",
      "    \"EdDSA\",\n",
      "    \"ES384\",\n",
      "    \"HS256\",\n",
      "    \"HS512\",\n",
      "    \"ES256\",\n",
      "    \"RS256\",\n",
      "    \"HS384\",\n",
      "    \"ES512\",\n",
      "    \"PS256\",\n",
      "    \"PS512\",\n",
      "    \"RS512\"\n",
      "  ],\n",
      "  \"backchannel_logout_supported\": true,\n",
      "  \"backchannel_logout_session_supported\": true,\n",
      "  \"device_authorization_endpoint\": \"http://localhost:8080/realms/local/protocol/openid-connect/auth/device\",\n",
      "  \"backchannel_token_delivery_modes_supported\": [\n",
      "    \"poll\",\n",
      "    \"ping\"\n",
      "  ],\n",
      "  \"backchannel_authentication_endpoint\": \"http://localhost:8080/realms/local/protocol/openid-connect/ext/ciba/auth\",\n",
      "  \"backchannel_authentication_request_signing_alg_values_supported\": [\n",
      "    \"PS384\",\n",
      "    \"RS384\",\n",
      "    \"EdDSA\",\n",
      "    \"ES384\",\n",
      "    \"ES256\",\n",
      "    \"RS256\",\n",
      "    \"ES512\",\n",
      "    \"PS256\",\n",
      "    \"PS512\",\n",
      "    \"RS512\"\n",
      "  ],\n",
      "  \"require_pushed_authorization_requests\": false,\n",
      "  \"pushed_authorization_request_endpoint\": \"http://localhost:8080/realms/local/protocol/openid-connect/ext/par/request\",\n",
      "  \"mtls_endpoint_aliases\": {\n",
      "    \"token_endpoint\": \"http://localhost:8080/realms/local/protocol/openid-connect/token\",\n",
      "    \"revocation_endpoint\": \"http://localhost:8080/realms/local/protocol/openid-connect/revoke\",\n",
      "    \"introspection_endpoint\": \"http://localhost:8080/realms/local/protocol/openid-connect/token/introspect\",\n",
      "    \"device_authorization_endpoint\": \"http://localhost:8080/realms/local/protocol/openid-connect/auth/device\",\n",
      "    \"registration_endpoint\": \"http://localhost:8080/realms/local/clients-registrations/openid-connect\",\n",
      "    \"userinfo_endpoint\": \"http://localhost:8080/realms/local/protocol/openid-connect/userinfo\",\n",
      "    \"pushed_authorization_request_endpoint\": \"http://localhost:8080/realms/local/protocol/openid-connect/ext/par/request\",\n",
      "    \"backchannel_authentication_endpoint\": \"http://localhost:8080/realms/local/protocol/openid-connect/ext/ciba/auth\"\n",
      "  },\n",
      "  \"authorization_response_iss_parameter_supported\": true\n",
      "}\n"
     ]
    }
   ],
   "source": [
    "$env:MCP_Auth_Server = \"http://localhost:8080/realms/local\"\n",
    "$env:MCP_OIDC_Metadata = \"$env:MCP_Auth_Server/.well-known/openid-configuration\"\n",
    "\n",
    "curl -s -X GET `\n",
    "  -H \"Accept: application/json\" `\n",
    " \"$env:MCP_OIDC_Metadata\" | jq ."
   ]
  },
  {
   "cell_type": "markdown",
   "id": "cdd6103e",
   "metadata": {},
   "source": [
    "What we are looking for in this metadata is the authorization endpoint, token endpoint, and supported scopes, which will be used in the subsequent steps of the authentication flow. And the scopes are clearly indicated in the `scopes_supported` field of the OIDC metadata.\n",
    "\n",
    "But we don't see the authorization endpoint or token endpoint in the OIDC metadata. In this case, the best approach, and the one that happens to work with GitHub, is to assume the standard OAuth 2.0 endpoint paths:\n",
    "- Authorization Endpoint: `{authorization_server_url}/protocol/openid-connect/auth`\n",
    "- Token Endpoint: `{authorization_server_url}/protocol/openid-connect/token`"
   ]
  },
  {
   "cell_type": "code",
   "execution_count": 112,
   "id": "fd794402",
   "metadata": {
    "language_info": {
     "name": "polyglot-notebook"
    },
    "polyglot_notebook": {
     "kernelName": "pwsh"
    }
   },
   "outputs": [],
   "source": [
    "$env:Scopes =  \"openid%20mcp:tools\"\n",
    "\n",
    "$env:AuthorizeEndpoint = \"$env:MCP_Auth_Server/protocol/openid-connect/auth\"\n",
    "$env:TokenEndpoint = \"$env:MCP_Auth_Server/protocol/openid-connect/token\""
   ]
  },
  {
   "cell_type": "markdown",
   "id": "d7f7f2de",
   "metadata": {},
   "source": [
    "## Step 4 - Client Registration\n",
    "\n",
    "When the authorization server supports dynamic client registration, the authorization server metadata will include a `registration_endpoint` field. The client can use this endpoint to register itself with the authorization server by sending a POST request with its details, such as redirect URIs and client name. The server responds with a client ID and client secret, which the client will use in subsequent authentication requests."
   ]
  },
  {
   "cell_type": "markdown",
   "id": "fecfb737",
   "metadata": {},
   "source": [
    "### Manual Client Registration\n",
    "\n",
    "TBD"
   ]
  },
  {
   "cell_type": "code",
   "execution_count": 113,
   "id": "259b6c88",
   "metadata": {
    "language_info": {
     "name": "polyglot-notebook"
    },
    "polyglot_notebook": {
     "kernelName": "pwsh"
    }
   },
   "outputs": [],
   "source": [
    "Add-Type -AssemblyName System.Web\n",
    "\n",
    "$env:CallbackUrl = \"http://127.0.0.1/\"\n",
    "$env:CallbackUrlEncoded = [System.Web.HttpUtility]::UrlEncode($env:CallbackUrl)"
   ]
  },
  {
   "cell_type": "markdown",
   "id": "3ff1d374",
   "metadata": {},
   "source": [
    "\n",
    "Store the client ID and client secret securely, as they will be needed in the next steps of the authentication flow. For this illustration, the client ID and client secret are stored in a .env file which is not checked into source control.\n"
   ]
  },
  {
   "cell_type": "code",
   "execution_count": 114,
   "id": "bd6966e5",
   "metadata": {
    "language_info": {
     "name": "polyglot-notebook"
    },
    "polyglot_notebook": {
     "kernelName": "pwsh"
    }
   },
   "outputs": [],
   "source": [
    "# Load .env file into the $dotenv hashtable\n",
    "$dotenv = & \"./Load-DotEnv.ps1\""
   ]
  },
  {
   "cell_type": "markdown",
   "id": "46752790",
   "metadata": {},
   "source": [
    "## Step 5 - User Authorization\n",
    "\n",
    "In this step, the client issues a GET request to the authorization endpoint obtained in Step 3. This request includes parameters such as the client ID, redirect URI, requested scopes, and response type (typically \"code\" for the authorization code flow). The user is then redirected to the authorization server's login page to authenticate and authorize the client application."
   ]
  },
  {
   "cell_type": "code",
   "execution_count": 115,
   "id": "f6ac0396",
   "metadata": {
    "language_info": {
     "name": "polyglot-notebook"
    },
    "polyglot_notebook": {
     "kernelName": "pwsh"
    }
   },
   "outputs": [
    {
     "name": "stdout",
     "output_type": "stream",
     "text": [
      "http://localhost:8080/realms/local/protocol/openid-connect/auth?response_type=code&client_id=ee6ed1c1-f470-4f90-ac9b-bae05ae3bfa8&redirect_uri=http%3a%2f%2f127.0.0.1%2f&scope=openid%20mcp:tools\r\n"
     ]
    }
   ],
   "source": [
    "$scopes = [System.Web.HttpUtility]::UrlEncode($env:CallbackUrl)\n",
    "\n",
    "$url = \"$($env:AuthorizeEndpoint)?response_type=code&client_id=$($dotenv['ClientId'])&redirect_uri=$env:CallbackUrlEncoded&scope=$env:Scopes\"\n",
    "echo $url"
   ]
  },
  {
   "cell_type": "markdown",
   "id": "9b8378aa",
   "metadata": {},
   "source": [
    "Get the code from the redirect URL after user authorization."
   ]
  },
  {
   "cell_type": "code",
   "execution_count": 116,
   "id": "199ba6de",
   "metadata": {
    "language_info": {
     "name": "polyglot-notebook"
    },
    "polyglot_notebook": {
     "kernelName": "pwsh"
    }
   },
   "outputs": [],
   "source": [
    "$env:authCode=\"4fa7c1de-508c-afda-6f68-58395ad70fd9.56251b8e-1fb4-ae77-61c7-9ceebefd680b.ee6ed1c1-f470-4f90-ac9b-bae05ae3bfa8\""
   ]
  },
  {
   "cell_type": "markdown",
   "id": "16034d55",
   "metadata": {},
   "source": [
    "Once the client has received the authorization code, it can exchange it for an access token using the token endpoint obtained in Step 3.\n",
    "The client sends a POST request to the token endpoint with parameters such as the client ID, authorization code, redirect URI, and grant type (typically \"authorization_code\"). The server responds with an access token (and optionally a refresh token) that the client can use to access protected resources on behalf of the user.\n",
    "\n",
    "The response of this request will include an access_token, which you can use to authenticate subsequent requests to the demo server."
   ]
  },
  {
   "cell_type": "code",
   "execution_count": 117,
   "id": "a5b8955a",
   "metadata": {
    "language_info": {
     "name": "polyglot-notebook"
    },
    "polyglot_notebook": {
     "kernelName": "pwsh"
    }
   },
   "outputs": [],
   "source": [
    "$body = \"grant_type=authorization_code\" +\n",
    "        \"&client_id=$($dotenv['ClientId'])\" +\n",
    "        \"&code=$($env:authCode)\" +\n",
    "        \"&redirect_uri=$($env:CallbackUrl)\"\n",
    "\n",
    "$response = curl -s -X POST `\n",
    "  -H \"Content-Type: application/x-www-form-urlencoded\" `\n",
    "  -H \"Accept: application/json\" `\n",
    "  -d \"$body\" `\n",
    "  \"$env:TokenEndpoint\"\n",
    "\n",
    "\n",
    "$env:accessToken = ($response | ConvertFrom-Json).access_token"
   ]
  },
  {
   "cell_type": "markdown",
   "id": "7e39c9b1",
   "metadata": {},
   "source": [
    "## Step 6 - Making Authenticated Requests\n",
    "\n",
    "Here's an example of how to use the access token to make an authenticated request:"
   ]
  },
  {
   "cell_type": "code",
   "execution_count": 119,
   "id": "7f66ffcc",
   "metadata": {
    "language_info": {
     "name": "polyglot-notebook"
    },
    "polyglot_notebook": {
     "kernelName": "pwsh"
    }
   },
   "outputs": [
    {
     "name": "stdout",
     "output_type": "stream",
     "text": [
      "event: message\n",
      "data: {\"result\":{\"protocolVersion\":\"2025-06-18\",\"capabilities\":{\"logging\":{},\"tools\":{\"listChanged\":true}},\"serverInfo\":{\"name\":\"SampleAspNetCoreMcp.ApiService\",\"version\":\"1.0.0.0\"}},\"id\":1,\"jsonrpc\":\"2.0\"}\n",
      "\n"
     ]
    }
   ],
   "source": [
    "curl -s -X POST `\n",
    "  -H \"Authorization: Bearer $env:accessToken\" `\n",
    "  -H \"Content-Type: application/json\" `\n",
    "  -H \"Accept: application/json, text/event-stream\" `\n",
    "  -d '{\n",
    "    \"jsonrpc\": \"2.0\",\n",
    "    \"id\": 1,\n",
    "    \"method\": \"initialize\",\n",
    "    \"params\": {\n",
    "        \"clientInfo\": {\n",
    "            \"name\": \"Polyglot Notebook\",\n",
    "            \"version\": \"0.1.0\"\n",
    "        },\n",
    "        \"capabilities\": {},\n",
    "        \"protocolVersion\": \"2025-06-18\"\n",
    "    }\n",
    "}' `\n",
    " \"$env:McpServer\""
   ]
  }
 ],
 "metadata": {
  "kernelspec": {
   "display_name": ".NET (C#)",
   "language": "C#",
   "name": ".net-csharp"
  },
  "language_info": {
   "name": "polyglot-notebook"
  },
  "polyglot_notebook": {
   "kernelInfo": {
    "defaultKernelName": "csharp",
    "items": [
     {
      "aliases": [],
      "languageName": "csharp",
      "name": "csharp"
     }
    ]
   }
  }
 },
 "nbformat": 4,
 "nbformat_minor": 5
}
